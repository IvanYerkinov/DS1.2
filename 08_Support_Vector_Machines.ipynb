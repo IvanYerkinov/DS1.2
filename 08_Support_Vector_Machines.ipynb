{
 "cells": [
  {
   "cell_type": "markdown",
   "metadata": {},
   "source": [
    "<center><img src='img/ms_logo.jpeg' height=40% width=40%></center>\n",
    "\n",
    "<center><h1>Support Vector Machines</h1></center>\n",
    "\n",
    "In this notebook, we'll cover one of the major algorithms used in Supervised Learning--**_Support Vector Machines_** (or _SVMs_ for short!). We'll start by playing around with a visual implementation to gain an intuition for how SVMs work, and then we'll grab an SVM implementation from `sklearn` and use to it make some classifcations on a real world data set.  \n",
    "\n",
    "<center><h3>How Support Vector Machines Work</h3></center>\n",
    "\n",
    "at first glance, SVMs are similar to other supervised learning algorithms such as Logistic Regression, because the algorithm find the optimal line for a decision boundary.  However, unlike Logistic Regression, SVMs don't just find a line for the decision boundary--they try to maximize the margin between the two sides. \n",
    "\n",
    "<center><img src='img/svm_boundary.png' height=40% width=40%></center>\n",
    "\n",
    "The points that touch the sides of the margin are called **_support vectors_**.  By maximizing the margin by finding support vectors, this has the effect of \"balancing\" the the decision boundary so that it evenly splits the area between the two classes.  This is not always the case with Logistic Regression--see the image below for a visual example.  \n",
    "\n",
    "<center><img src=\"img/svm_vs_lr.png\"></center>\n",
    "\n",
    "Notice that on the image on the right, the line is a bit skewed through the datapoints.  This is a problem that can occur with Logistic Regression, since it's job is to fit a line that linearly separates the two classes. The line in the image on the right _technically_ accomplishes this task, but we can see by looking at the decision boundary that this is not optimal. Contrast this with the decision boundary on the left, which splits the area between the two classes perfectly.  \n",
    "\n",
    "<center><h3>Linear Separability and Kernel Methods</h3></center>\n",
    "\n",
    "SVMs are not perfect, however--they only work when the data is **_linearly separable_**--that is, the decision boundary is linear, and can be drawn as a straight line.  Take a look at the picture below, and consider where you would draw the ideal decision boundary to split the two--remember, it has to be a straight line!\n",
    "\n",
    "<center><img src='img/before_kernel.png' height=50% width=50%></center>\n",
    "\n",
    "The data is non linearly separable, so we can't draw a decision boundary--or can we?  This is where the cool part of SVMs comes in--what if we mapped the data to a **_higher-dimension space_**--maybe we could draw a decision boundary there?\n",
    "\n",
    "<center><img src='img/after_kernel.png'></center>\n",
    "\n",
    "Ah, there it is! In this higher dimensional space, we can see an easy place to draw a linear decision boundary.  It's important to note that in 2 dimensions, our decision boundary looks like a straight line--but for this data, in its current form, our decision boundary will need to look like a piece of paper (with no thickness). This is because our decision boundary will always have one less dimension than the data we are trying to find a decision boundary for.  If our data has 4 dimensions (which we can't visualize), then our decision boundary would be a **_hyperplane_** that would look like a rectangle.  We can generalize this rule to say that for any dataset with \\[n\\] dimensions, our decision boundary will have \\[n - 1\\] dimensions. \n",
    "\n",
    "The process of mapping data to a higher-dimensional space is called the **_Kernel Method_**.  There are several different kernels that are typically used, but the most common ones you'll typically need to know are the **_Polynomial Kernel_** and the **_Radial Basis Function (RBF)_**--these are complicated data transformations that any ML library worth its salt can handle for you. You don't need to know the math behind them, but you should definitely be aware that they exist, and that they are tools in your ML toolbox for SVMs!\n",
    "\n",
    "<center>The Final Step</center>\n",
    "\n",
    "Let's review what we've done so far:\n",
    "\n",
    "1.  Determined that the data is not linearly separable in its current form.\n",
    "2.  Mapped the data to a higher dimensional space using a kernel method.\n",
    "3.  Found a linear decision boundary in the higher dimensional space. \n",
    "\n",
    "Now what?\n",
    "\n",
    "Now that we've identified support vectors that allow us to linearly separate the data in a higher dimensional space, all that we need to do is to bring the data (and the decision boundary) back to our original, lower-dimensional space.  If we visualize the decision boundary for our data in the lower-dimensional space, it will appear as a circle:\n",
    "\n",
    "<center><img src='img/kernel_with_boundary.png'></center>\n",
    "\n",
    "It's important to understand that although our decision boundary isn't linear in this lower-dimensional space, that's okay--we found a linear decision boundary in a higher-dimensional space and made our classifications, so we didn't actually break the rules of Support Vector Machines.  \n",
    "\n",
    "<center><h3>Playing Around with SVMs</h3></center>\n",
    "\n",
    "To make learning how SVMs work a bit easier, the `sklearn` community has built an awesome interactive visualization that lets users plot points and fit an SVM for binary classification. We **_highly recommend_** running this python script and getting a feel for how SVMs work--plot different data points and see how the decision boundary changes, try different kernel methods, visualize the decision surface of the SVM, etc.  You'll find all of these activities very useful, and very interesting.  \n",
    "\n",
    "Check out [this link](http://scikit-learn.org/stable/auto_examples/applications/svm_gui.html#sphx-glr-auto-examples-applications-svm-gui-py) to see the page on sklearn.org that gives an example of how everything works. **_To download the file, download and run the python script linked at the bottom of the page (use the script version, not the jupyter notebook!)_**\n",
    "\n",
    "\n",
    "<center><h2>Challenge: Classifications with SVMs</h2></center>\n",
    "\n",
    "For the remainder of this notebook, you'll use everything you've learned in DS2 to use a Support Vector Classifier on the [Wisconsin Breast Cancer Dataset](http://archive.ics.uci.edu/ml/datasets/Breast+Cancer+Wisconsin+%28Diagnostic%29).  Note that you **_do not need to download the dataset_**, as it comes preloaded as a sample in sklearn.  To get the data, just use the `load_breast_cancer()` method found within `sklearn.datasets`.\n",
    "\n",
    "**_Challenge_**:\n",
    "\n",
    "1.  Import and explore the dataset.  Recall the `load_breast_cancer()` method will return an object that contains the data in `.data`, the labels in `.target`, and the column names in `.feature_names` attributes.  \n",
    "2.  Build a **_Correlation Heatmap_** using **_Seaborn_** to check for each feature's correlation with the labels. \n",
    "3.  Build a second **_Correlation Heatmap_** using **_Seaborn_** to check for **_mutlicollinearity_** between features.  \n",
    "4.  Scale and transform the data using a `StandardScaler()` object and any appropriate methods it contains.\n",
    "5.  Split the newly scaled data into training and testing sets using `train_test_split()`.\n",
    "6.  Create an `SVC()` object, which can be found in `sklearn.svm`\n",
    "7.  Fit the model to the scaled data. \n",
    "8.  Use your validation data to check the accuracy metrics for your model.  \n",
    "\n",
    "\n",
    "**_Stretch Challenge_**: \n",
    "\n",
    "1. Try different parameters such as different kernels to see how it affects the overall performance of the model.  For a full list of the tunable parameters you can use with an SVC, see [the documentation](http://scikit-learn.org/stable/modules/generated/sklearn.svm.SVC.html) on sklearn.org. "
   ]
  },
  {
   "cell_type": "code",
   "execution_count": 6,
   "metadata": {},
   "outputs": [],
   "source": [
    "# Write your code below!\n",
    "import pandas as pd\n",
    "from sklearn.datasets import load_breast_cancer\n",
    "df = load_breast_cancer()"
   ]
  },
  {
   "cell_type": "code",
   "execution_count": 8,
   "metadata": {},
   "outputs": [
    {
     "name": "stdout",
     "output_type": "stream",
     "text": [
      "[[1.799e+01 1.038e+01 1.228e+02 ... 2.654e-01 4.601e-01 1.189e-01]\n",
      " [2.057e+01 1.777e+01 1.329e+02 ... 1.860e-01 2.750e-01 8.902e-02]\n",
      " [1.969e+01 2.125e+01 1.300e+02 ... 2.430e-01 3.613e-01 8.758e-02]\n",
      " ...\n",
      " [1.660e+01 2.808e+01 1.083e+02 ... 1.418e-01 2.218e-01 7.820e-02]\n",
      " [2.060e+01 2.933e+01 1.401e+02 ... 2.650e-01 4.087e-01 1.240e-01]\n",
      " [7.760e+00 2.454e+01 4.792e+01 ... 0.000e+00 2.871e-01 7.039e-02]]\n"
     ]
    }
   ],
   "source": [
    "print(df.data)"
   ]
  },
  {
   "cell_type": "code",
   "execution_count": 9,
   "metadata": {},
   "outputs": [
    {
     "name": "stdout",
     "output_type": "stream",
     "text": [
      "[0 0 0 0 0 0 0 0 0 0 0 0 0 0 0 0 0 0 0 1 1 1 0 0 0 0 0 0 0 0 0 0 0 0 0 0 0\n",
      " 1 0 0 0 0 0 0 0 0 1 0 1 1 1 1 1 0 0 1 0 0 1 1 1 1 0 1 0 0 1 1 1 1 0 1 0 0\n",
      " 1 0 1 0 0 1 1 1 0 0 1 0 0 0 1 1 1 0 1 1 0 0 1 1 1 0 0 1 1 1 1 0 1 1 0 1 1\n",
      " 1 1 1 1 1 1 0 0 0 1 0 0 1 1 1 0 0 1 0 1 0 0 1 0 0 1 1 0 1 1 0 1 1 1 1 0 1\n",
      " 1 1 1 1 1 1 1 1 0 1 1 1 1 0 0 1 0 1 1 0 0 1 1 0 0 1 1 1 1 0 1 1 0 0 0 1 0\n",
      " 1 0 1 1 1 0 1 1 0 0 1 0 0 0 0 1 0 0 0 1 0 1 0 1 1 0 1 0 0 0 0 1 1 0 0 1 1\n",
      " 1 0 1 1 1 1 1 0 0 1 1 0 1 1 0 0 1 0 1 1 1 1 0 1 1 1 1 1 0 1 0 0 0 0 0 0 0\n",
      " 0 0 0 0 0 0 0 1 1 1 1 1 1 0 1 0 1 1 0 1 1 0 1 0 0 1 1 1 1 1 1 1 1 1 1 1 1\n",
      " 1 0 1 1 0 1 0 1 1 1 1 1 1 1 1 1 1 1 1 1 1 0 1 1 1 0 1 0 1 1 1 1 0 0 0 1 1\n",
      " 1 1 0 1 0 1 0 1 1 1 0 1 1 1 1 1 1 1 0 0 0 1 1 1 1 1 1 1 1 1 1 1 0 0 1 0 0\n",
      " 0 1 0 0 1 1 1 1 1 0 1 1 1 1 1 0 1 1 1 0 1 1 0 0 1 1 1 1 1 1 0 1 1 1 1 1 1\n",
      " 1 0 1 1 1 1 1 0 1 1 0 1 1 1 1 1 1 1 1 1 1 1 1 0 1 0 0 1 0 1 1 1 1 1 0 1 1\n",
      " 0 1 0 1 1 0 1 0 1 1 1 1 1 1 1 1 0 0 1 1 1 1 1 1 0 1 1 1 1 1 1 1 1 1 1 0 1\n",
      " 1 1 1 1 1 1 0 1 0 1 1 0 1 1 1 1 1 0 0 1 0 1 0 1 1 1 1 1 0 1 1 0 1 0 1 0 0\n",
      " 1 1 1 0 1 1 1 1 1 1 1 1 1 1 1 0 1 0 0 1 1 1 1 1 1 1 1 1 1 1 1 1 1 1 1 1 1\n",
      " 1 1 1 1 1 1 1 0 0 0 0 0 0 1]\n"
     ]
    }
   ],
   "source": [
    "print(df.target)"
   ]
  },
  {
   "cell_type": "code",
   "execution_count": 10,
   "metadata": {},
   "outputs": [
    {
     "name": "stdout",
     "output_type": "stream",
     "text": [
      "['mean radius' 'mean texture' 'mean perimeter' 'mean area'\n",
      " 'mean smoothness' 'mean compactness' 'mean concavity'\n",
      " 'mean concave points' 'mean symmetry' 'mean fractal dimension'\n",
      " 'radius error' 'texture error' 'perimeter error' 'area error'\n",
      " 'smoothness error' 'compactness error' 'concavity error'\n",
      " 'concave points error' 'symmetry error' 'fractal dimension error'\n",
      " 'worst radius' 'worst texture' 'worst perimeter' 'worst area'\n",
      " 'worst smoothness' 'worst compactness' 'worst concavity'\n",
      " 'worst concave points' 'worst symmetry' 'worst fractal dimension']\n"
     ]
    }
   ],
   "source": [
    "print(df.feature_names)"
   ]
  },
  {
   "cell_type": "code",
   "execution_count": 13,
   "metadata": {},
   "outputs": [],
   "source": [
    "bc = pd.DataFrame(df.data)"
   ]
  },
  {
   "cell_type": "code",
   "execution_count": 15,
   "metadata": {},
   "outputs": [],
   "source": [
    "bc.columns = df.feature_names"
   ]
  },
  {
   "cell_type": "code",
   "execution_count": 16,
   "metadata": {},
   "outputs": [
    {
     "data": {
      "text/html": [
       "<div>\n",
       "<style scoped>\n",
       "    .dataframe tbody tr th:only-of-type {\n",
       "        vertical-align: middle;\n",
       "    }\n",
       "\n",
       "    .dataframe tbody tr th {\n",
       "        vertical-align: top;\n",
       "    }\n",
       "\n",
       "    .dataframe thead th {\n",
       "        text-align: right;\n",
       "    }\n",
       "</style>\n",
       "<table border=\"1\" class=\"dataframe\">\n",
       "  <thead>\n",
       "    <tr style=\"text-align: right;\">\n",
       "      <th></th>\n",
       "      <th>mean radius</th>\n",
       "      <th>mean texture</th>\n",
       "      <th>mean perimeter</th>\n",
       "      <th>mean area</th>\n",
       "      <th>mean smoothness</th>\n",
       "      <th>mean compactness</th>\n",
       "      <th>mean concavity</th>\n",
       "      <th>mean concave points</th>\n",
       "      <th>mean symmetry</th>\n",
       "      <th>mean fractal dimension</th>\n",
       "      <th>...</th>\n",
       "      <th>worst radius</th>\n",
       "      <th>worst texture</th>\n",
       "      <th>worst perimeter</th>\n",
       "      <th>worst area</th>\n",
       "      <th>worst smoothness</th>\n",
       "      <th>worst compactness</th>\n",
       "      <th>worst concavity</th>\n",
       "      <th>worst concave points</th>\n",
       "      <th>worst symmetry</th>\n",
       "      <th>worst fractal dimension</th>\n",
       "    </tr>\n",
       "  </thead>\n",
       "  <tbody>\n",
       "    <tr>\n",
       "      <th>0</th>\n",
       "      <td>17.99</td>\n",
       "      <td>10.38</td>\n",
       "      <td>122.80</td>\n",
       "      <td>1001.0</td>\n",
       "      <td>0.11840</td>\n",
       "      <td>0.27760</td>\n",
       "      <td>0.30010</td>\n",
       "      <td>0.14710</td>\n",
       "      <td>0.2419</td>\n",
       "      <td>0.07871</td>\n",
       "      <td>...</td>\n",
       "      <td>25.380</td>\n",
       "      <td>17.33</td>\n",
       "      <td>184.60</td>\n",
       "      <td>2019.0</td>\n",
       "      <td>0.16220</td>\n",
       "      <td>0.66560</td>\n",
       "      <td>0.7119</td>\n",
       "      <td>0.2654</td>\n",
       "      <td>0.4601</td>\n",
       "      <td>0.11890</td>\n",
       "    </tr>\n",
       "    <tr>\n",
       "      <th>1</th>\n",
       "      <td>20.57</td>\n",
       "      <td>17.77</td>\n",
       "      <td>132.90</td>\n",
       "      <td>1326.0</td>\n",
       "      <td>0.08474</td>\n",
       "      <td>0.07864</td>\n",
       "      <td>0.08690</td>\n",
       "      <td>0.07017</td>\n",
       "      <td>0.1812</td>\n",
       "      <td>0.05667</td>\n",
       "      <td>...</td>\n",
       "      <td>24.990</td>\n",
       "      <td>23.41</td>\n",
       "      <td>158.80</td>\n",
       "      <td>1956.0</td>\n",
       "      <td>0.12380</td>\n",
       "      <td>0.18660</td>\n",
       "      <td>0.2416</td>\n",
       "      <td>0.1860</td>\n",
       "      <td>0.2750</td>\n",
       "      <td>0.08902</td>\n",
       "    </tr>\n",
       "    <tr>\n",
       "      <th>2</th>\n",
       "      <td>19.69</td>\n",
       "      <td>21.25</td>\n",
       "      <td>130.00</td>\n",
       "      <td>1203.0</td>\n",
       "      <td>0.10960</td>\n",
       "      <td>0.15990</td>\n",
       "      <td>0.19740</td>\n",
       "      <td>0.12790</td>\n",
       "      <td>0.2069</td>\n",
       "      <td>0.05999</td>\n",
       "      <td>...</td>\n",
       "      <td>23.570</td>\n",
       "      <td>25.53</td>\n",
       "      <td>152.50</td>\n",
       "      <td>1709.0</td>\n",
       "      <td>0.14440</td>\n",
       "      <td>0.42450</td>\n",
       "      <td>0.4504</td>\n",
       "      <td>0.2430</td>\n",
       "      <td>0.3613</td>\n",
       "      <td>0.08758</td>\n",
       "    </tr>\n",
       "    <tr>\n",
       "      <th>3</th>\n",
       "      <td>11.42</td>\n",
       "      <td>20.38</td>\n",
       "      <td>77.58</td>\n",
       "      <td>386.1</td>\n",
       "      <td>0.14250</td>\n",
       "      <td>0.28390</td>\n",
       "      <td>0.24140</td>\n",
       "      <td>0.10520</td>\n",
       "      <td>0.2597</td>\n",
       "      <td>0.09744</td>\n",
       "      <td>...</td>\n",
       "      <td>14.910</td>\n",
       "      <td>26.50</td>\n",
       "      <td>98.87</td>\n",
       "      <td>567.7</td>\n",
       "      <td>0.20980</td>\n",
       "      <td>0.86630</td>\n",
       "      <td>0.6869</td>\n",
       "      <td>0.2575</td>\n",
       "      <td>0.6638</td>\n",
       "      <td>0.17300</td>\n",
       "    </tr>\n",
       "    <tr>\n",
       "      <th>4</th>\n",
       "      <td>20.29</td>\n",
       "      <td>14.34</td>\n",
       "      <td>135.10</td>\n",
       "      <td>1297.0</td>\n",
       "      <td>0.10030</td>\n",
       "      <td>0.13280</td>\n",
       "      <td>0.19800</td>\n",
       "      <td>0.10430</td>\n",
       "      <td>0.1809</td>\n",
       "      <td>0.05883</td>\n",
       "      <td>...</td>\n",
       "      <td>22.540</td>\n",
       "      <td>16.67</td>\n",
       "      <td>152.20</td>\n",
       "      <td>1575.0</td>\n",
       "      <td>0.13740</td>\n",
       "      <td>0.20500</td>\n",
       "      <td>0.4000</td>\n",
       "      <td>0.1625</td>\n",
       "      <td>0.2364</td>\n",
       "      <td>0.07678</td>\n",
       "    </tr>\n",
       "    <tr>\n",
       "      <th>...</th>\n",
       "      <td>...</td>\n",
       "      <td>...</td>\n",
       "      <td>...</td>\n",
       "      <td>...</td>\n",
       "      <td>...</td>\n",
       "      <td>...</td>\n",
       "      <td>...</td>\n",
       "      <td>...</td>\n",
       "      <td>...</td>\n",
       "      <td>...</td>\n",
       "      <td>...</td>\n",
       "      <td>...</td>\n",
       "      <td>...</td>\n",
       "      <td>...</td>\n",
       "      <td>...</td>\n",
       "      <td>...</td>\n",
       "      <td>...</td>\n",
       "      <td>...</td>\n",
       "      <td>...</td>\n",
       "      <td>...</td>\n",
       "      <td>...</td>\n",
       "    </tr>\n",
       "    <tr>\n",
       "      <th>564</th>\n",
       "      <td>21.56</td>\n",
       "      <td>22.39</td>\n",
       "      <td>142.00</td>\n",
       "      <td>1479.0</td>\n",
       "      <td>0.11100</td>\n",
       "      <td>0.11590</td>\n",
       "      <td>0.24390</td>\n",
       "      <td>0.13890</td>\n",
       "      <td>0.1726</td>\n",
       "      <td>0.05623</td>\n",
       "      <td>...</td>\n",
       "      <td>25.450</td>\n",
       "      <td>26.40</td>\n",
       "      <td>166.10</td>\n",
       "      <td>2027.0</td>\n",
       "      <td>0.14100</td>\n",
       "      <td>0.21130</td>\n",
       "      <td>0.4107</td>\n",
       "      <td>0.2216</td>\n",
       "      <td>0.2060</td>\n",
       "      <td>0.07115</td>\n",
       "    </tr>\n",
       "    <tr>\n",
       "      <th>565</th>\n",
       "      <td>20.13</td>\n",
       "      <td>28.25</td>\n",
       "      <td>131.20</td>\n",
       "      <td>1261.0</td>\n",
       "      <td>0.09780</td>\n",
       "      <td>0.10340</td>\n",
       "      <td>0.14400</td>\n",
       "      <td>0.09791</td>\n",
       "      <td>0.1752</td>\n",
       "      <td>0.05533</td>\n",
       "      <td>...</td>\n",
       "      <td>23.690</td>\n",
       "      <td>38.25</td>\n",
       "      <td>155.00</td>\n",
       "      <td>1731.0</td>\n",
       "      <td>0.11660</td>\n",
       "      <td>0.19220</td>\n",
       "      <td>0.3215</td>\n",
       "      <td>0.1628</td>\n",
       "      <td>0.2572</td>\n",
       "      <td>0.06637</td>\n",
       "    </tr>\n",
       "    <tr>\n",
       "      <th>566</th>\n",
       "      <td>16.60</td>\n",
       "      <td>28.08</td>\n",
       "      <td>108.30</td>\n",
       "      <td>858.1</td>\n",
       "      <td>0.08455</td>\n",
       "      <td>0.10230</td>\n",
       "      <td>0.09251</td>\n",
       "      <td>0.05302</td>\n",
       "      <td>0.1590</td>\n",
       "      <td>0.05648</td>\n",
       "      <td>...</td>\n",
       "      <td>18.980</td>\n",
       "      <td>34.12</td>\n",
       "      <td>126.70</td>\n",
       "      <td>1124.0</td>\n",
       "      <td>0.11390</td>\n",
       "      <td>0.30940</td>\n",
       "      <td>0.3403</td>\n",
       "      <td>0.1418</td>\n",
       "      <td>0.2218</td>\n",
       "      <td>0.07820</td>\n",
       "    </tr>\n",
       "    <tr>\n",
       "      <th>567</th>\n",
       "      <td>20.60</td>\n",
       "      <td>29.33</td>\n",
       "      <td>140.10</td>\n",
       "      <td>1265.0</td>\n",
       "      <td>0.11780</td>\n",
       "      <td>0.27700</td>\n",
       "      <td>0.35140</td>\n",
       "      <td>0.15200</td>\n",
       "      <td>0.2397</td>\n",
       "      <td>0.07016</td>\n",
       "      <td>...</td>\n",
       "      <td>25.740</td>\n",
       "      <td>39.42</td>\n",
       "      <td>184.60</td>\n",
       "      <td>1821.0</td>\n",
       "      <td>0.16500</td>\n",
       "      <td>0.86810</td>\n",
       "      <td>0.9387</td>\n",
       "      <td>0.2650</td>\n",
       "      <td>0.4087</td>\n",
       "      <td>0.12400</td>\n",
       "    </tr>\n",
       "    <tr>\n",
       "      <th>568</th>\n",
       "      <td>7.76</td>\n",
       "      <td>24.54</td>\n",
       "      <td>47.92</td>\n",
       "      <td>181.0</td>\n",
       "      <td>0.05263</td>\n",
       "      <td>0.04362</td>\n",
       "      <td>0.00000</td>\n",
       "      <td>0.00000</td>\n",
       "      <td>0.1587</td>\n",
       "      <td>0.05884</td>\n",
       "      <td>...</td>\n",
       "      <td>9.456</td>\n",
       "      <td>30.37</td>\n",
       "      <td>59.16</td>\n",
       "      <td>268.6</td>\n",
       "      <td>0.08996</td>\n",
       "      <td>0.06444</td>\n",
       "      <td>0.0000</td>\n",
       "      <td>0.0000</td>\n",
       "      <td>0.2871</td>\n",
       "      <td>0.07039</td>\n",
       "    </tr>\n",
       "  </tbody>\n",
       "</table>\n",
       "<p>569 rows × 30 columns</p>\n",
       "</div>"
      ],
      "text/plain": [
       "     mean radius  mean texture  mean perimeter  mean area  mean smoothness  \\\n",
       "0          17.99         10.38          122.80     1001.0          0.11840   \n",
       "1          20.57         17.77          132.90     1326.0          0.08474   \n",
       "2          19.69         21.25          130.00     1203.0          0.10960   \n",
       "3          11.42         20.38           77.58      386.1          0.14250   \n",
       "4          20.29         14.34          135.10     1297.0          0.10030   \n",
       "..           ...           ...             ...        ...              ...   \n",
       "564        21.56         22.39          142.00     1479.0          0.11100   \n",
       "565        20.13         28.25          131.20     1261.0          0.09780   \n",
       "566        16.60         28.08          108.30      858.1          0.08455   \n",
       "567        20.60         29.33          140.10     1265.0          0.11780   \n",
       "568         7.76         24.54           47.92      181.0          0.05263   \n",
       "\n",
       "     mean compactness  mean concavity  mean concave points  mean symmetry  \\\n",
       "0             0.27760         0.30010              0.14710         0.2419   \n",
       "1             0.07864         0.08690              0.07017         0.1812   \n",
       "2             0.15990         0.19740              0.12790         0.2069   \n",
       "3             0.28390         0.24140              0.10520         0.2597   \n",
       "4             0.13280         0.19800              0.10430         0.1809   \n",
       "..                ...             ...                  ...            ...   \n",
       "564           0.11590         0.24390              0.13890         0.1726   \n",
       "565           0.10340         0.14400              0.09791         0.1752   \n",
       "566           0.10230         0.09251              0.05302         0.1590   \n",
       "567           0.27700         0.35140              0.15200         0.2397   \n",
       "568           0.04362         0.00000              0.00000         0.1587   \n",
       "\n",
       "     mean fractal dimension  ...  worst radius  worst texture  \\\n",
       "0                   0.07871  ...        25.380          17.33   \n",
       "1                   0.05667  ...        24.990          23.41   \n",
       "2                   0.05999  ...        23.570          25.53   \n",
       "3                   0.09744  ...        14.910          26.50   \n",
       "4                   0.05883  ...        22.540          16.67   \n",
       "..                      ...  ...           ...            ...   \n",
       "564                 0.05623  ...        25.450          26.40   \n",
       "565                 0.05533  ...        23.690          38.25   \n",
       "566                 0.05648  ...        18.980          34.12   \n",
       "567                 0.07016  ...        25.740          39.42   \n",
       "568                 0.05884  ...         9.456          30.37   \n",
       "\n",
       "     worst perimeter  worst area  worst smoothness  worst compactness  \\\n",
       "0             184.60      2019.0           0.16220            0.66560   \n",
       "1             158.80      1956.0           0.12380            0.18660   \n",
       "2             152.50      1709.0           0.14440            0.42450   \n",
       "3              98.87       567.7           0.20980            0.86630   \n",
       "4             152.20      1575.0           0.13740            0.20500   \n",
       "..               ...         ...               ...                ...   \n",
       "564           166.10      2027.0           0.14100            0.21130   \n",
       "565           155.00      1731.0           0.11660            0.19220   \n",
       "566           126.70      1124.0           0.11390            0.30940   \n",
       "567           184.60      1821.0           0.16500            0.86810   \n",
       "568            59.16       268.6           0.08996            0.06444   \n",
       "\n",
       "     worst concavity  worst concave points  worst symmetry  \\\n",
       "0             0.7119                0.2654          0.4601   \n",
       "1             0.2416                0.1860          0.2750   \n",
       "2             0.4504                0.2430          0.3613   \n",
       "3             0.6869                0.2575          0.6638   \n",
       "4             0.4000                0.1625          0.2364   \n",
       "..               ...                   ...             ...   \n",
       "564           0.4107                0.2216          0.2060   \n",
       "565           0.3215                0.1628          0.2572   \n",
       "566           0.3403                0.1418          0.2218   \n",
       "567           0.9387                0.2650          0.4087   \n",
       "568           0.0000                0.0000          0.2871   \n",
       "\n",
       "     worst fractal dimension  \n",
       "0                    0.11890  \n",
       "1                    0.08902  \n",
       "2                    0.08758  \n",
       "3                    0.17300  \n",
       "4                    0.07678  \n",
       "..                       ...  \n",
       "564                  0.07115  \n",
       "565                  0.06637  \n",
       "566                  0.07820  \n",
       "567                  0.12400  \n",
       "568                  0.07039  \n",
       "\n",
       "[569 rows x 30 columns]"
      ]
     },
     "execution_count": 16,
     "metadata": {},
     "output_type": "execute_result"
    }
   ],
   "source": [
    "bc"
   ]
  },
  {
   "cell_type": "code",
   "execution_count": 18,
   "metadata": {},
   "outputs": [],
   "source": [
    "corr = bc.corr()"
   ]
  },
  {
   "cell_type": "code",
   "execution_count": 22,
   "metadata": {},
   "outputs": [
    {
     "data": {
      "text/plain": [
       "<matplotlib.axes._subplots.AxesSubplot at 0x134197c90>"
      ]
     },
     "execution_count": 22,
     "metadata": {},
     "output_type": "execute_result"
    },
    {
     "data": {
      "image/png": "[encoded data removed]",
      "text/plain": [
       "<Figure size 432x288 with 2 Axes>"
      ]
     },
     "metadata": {
      "needs_background": "light"
     },
     "output_type": "display_data"
    }
   ],
   "source": [
    "import seaborn as sns\n",
    "import numpy as np\n",
    "\n",
    "sns.heatmap(corr)"
   ]
  },
  {
   "cell_type": "code",
   "execution_count": 23,
   "metadata": {},
   "outputs": [],
   "source": [
    "mask = np.triu(np.ones_like(corr, dtype=np.bool))"
   ]
  },
  {
   "cell_type": "code",
   "execution_count": 49,
   "metadata": {},
   "outputs": [],
   "source": [
    "cmap = sns.diverging_palette(200, 40, as_cmap=True)"
   ]
  },
  {
   "cell_type": "code",
   "execution_count": 50,
   "metadata": {},
   "outputs": [
    {
     "data": {
      "text/plain": [
       "<matplotlib.axes._subplots.AxesSubplot at 0x1357b5c50>"
      ]
     },
     "execution_count": 50,
     "metadata": {},
     "output_type": "execute_result"
    },
    {
     "data": {
      "image/png": "[encoded data removed]",
      "text/plain": [
       "<Figure size 432x288 with 2 Axes>"
      ]
     },
     "metadata": {
      "needs_background": "light"
     },
     "output_type": "display_data"
    }
   ],
   "source": [
    "sns.heatmap(corr, mask=mask, cmap=cmap)"
   ]
  },
  {
   "cell_type": "code",
   "execution_count": 58,
   "metadata": {},
   "outputs": [],
   "source": [
    "from sklearn.preprocessing import StandardScaler\n",
    "\n",
    "scalar = StandardScaler()"
   ]
  },
  {
   "cell_type": "code",
   "execution_count": 63,
   "metadata": {},
   "outputs": [
    {
     "name": "stdout",
     "output_type": "stream",
     "text": [
      "StandardScaler(copy=True, with_mean=True, with_std=True)\n"
     ]
    }
   ],
   "source": [
    "print(scalar.fit(df.data))"
   ]
  },
  {
   "cell_type": "code",
   "execution_count": 67,
   "metadata": {},
   "outputs": [],
   "source": [
    "tra = scalar.transform(df.data)"
   ]
  },
  {
   "cell_type": "code",
   "execution_count": 68,
   "metadata": {},
   "outputs": [
    {
     "name": "stdout",
     "output_type": "stream",
     "text": [
      "[[ 1.09706398 -2.07333501  1.26993369 ...  2.29607613  2.75062224\n",
      "   1.93701461]\n",
      " [ 1.82982061 -0.35363241  1.68595471 ...  1.0870843  -0.24388967\n",
      "   0.28118999]\n",
      " [ 1.57988811  0.45618695  1.56650313 ...  1.95500035  1.152255\n",
      "   0.20139121]\n",
      " ...\n",
      " [ 0.70228425  2.0455738   0.67267578 ...  0.41406869 -1.10454895\n",
      "  -0.31840916]\n",
      " [ 1.83834103  2.33645719  1.98252415 ...  2.28998549  1.91908301\n",
      "   2.21963528]\n",
      " [-1.80840125  1.22179204 -1.81438851 ... -1.74506282 -0.04813821\n",
      "  -0.75120669]]\n"
     ]
    }
   ],
   "source": [
    "print(tra)"
   ]
  },
  {
   "cell_type": "code",
   "execution_count": 83,
   "metadata": {},
   "outputs": [],
   "source": [
    "from sklearn.model_selection import train_test_split\n",
    "\n",
    "X_train, X_test, y_train, y_test = train_test_split(tra, df.target, random_state=0)"
   ]
  },
  {
   "cell_type": "code",
   "execution_count": 84,
   "metadata": {},
   "outputs": [
    {
     "data": {
      "text/plain": [
       "SVC(C=10, cache_size=200, class_weight=None, coef0=0.0,\n",
       "    decision_function_shape='ovr', degree=3, gamma='auto_deprecated',\n",
       "    kernel='linear', max_iter=-1, probability=False, random_state=None,\n",
       "    shrinking=True, tol=0.001, verbose=False)"
      ]
     },
     "execution_count": 84,
     "metadata": {},
     "output_type": "execute_result"
    }
   ],
   "source": [
    "from sklearn import svm\n",
    "\n",
    "svm_classifier = svm.SVC(kernel='linear', C=10)\n",
    "\n",
    "svm_classifier.fit(X_train, y_train)"
   ]
  },
  {
   "cell_type": "code",
   "execution_count": 85,
   "metadata": {},
   "outputs": [
    {
     "data": {
      "text/plain": [
       "array([12, 15], dtype=int32)"
      ]
     },
     "execution_count": 85,
     "metadata": {},
     "output_type": "execute_result"
    }
   ],
   "source": [
    "svm_classifier.n_support_"
   ]
  },
  {
   "cell_type": "code",
   "execution_count": 86,
   "metadata": {},
   "outputs": [
    {
     "data": {
      "text/plain": [
       "array([[ 7.27845526e-01,  2.11844903e-01,  6.23247544e-01,\n",
       "         5.76530590e-01, -1.52224881e+00, -6.29586798e-01,\n",
       "        -6.56741948e-01, -6.66752412e-01,  1.25524439e-01,\n",
       "        -1.35347305e+00, -5.69793407e-01, -1.17742469e+00,\n",
       "        -5.40107715e-01, -3.82545466e-01, -1.45805209e+00,\n",
       "        -6.15798705e-01, -5.85676248e-01, -1.05422285e+00,\n",
       "        -1.12881340e-01, -7.92400199e-01,  6.02777939e-01,\n",
       "         1.43754721e-01,  5.96872082e-01,  3.57589104e-01,\n",
       "        -1.37945387e+00,  2.40047043e-01, -1.17484075e-01,\n",
       "        -4.14715005e-01,  2.87357357e+00, -4.27578319e-01],\n",
       "       [ 6.05719422e-01,  6.02792181e-01,  6.39723624e-01,\n",
       "         4.88932230e-01,  1.43325199e+00,  4.54058795e-01,\n",
       "         1.14376646e+00,  7.96798146e-01,  2.09496137e-01,\n",
       "         3.57575052e-01,  5.97064192e-01,  4.35708469e-01,\n",
       "         4.69985890e-02,  3.82453979e-01,  1.17305459e+00,\n",
       "         6.75249656e-01,  8.78537885e-01,  1.03591825e-02,\n",
       "         2.38254662e+00,  9.04813573e-01,  3.02508271e-01,\n",
       "        -7.60843971e-02,  1.91784680e-01,  1.66328201e-01,\n",
       "         4.48502801e-01, -2.71409290e-01,  2.98461215e-01,\n",
       "        -1.50838072e-01, -2.66538596e-01, -2.44706121e-01],\n",
       "       [-3.85490122e-01,  7.40089141e-01, -4.22159738e-01,\n",
       "        -4.22602658e-01, -4.13491229e-01, -8.85621285e-01,\n",
       "        -5.23408155e-01, -5.64350302e-01, -8.27371788e-01,\n",
       "        -3.04446043e-01, -6.08051033e-01,  2.96003989e-01,\n",
       "        -6.97527449e-01, -4.50310731e-01,  1.52679887e-01,\n",
       "        -7.52169181e-01, -2.84278910e-01, -4.66537234e-01,\n",
       "        -4.93067841e-01, -4.41004702e-01, -3.68439127e-01,\n",
       "         1.25272094e+00, -4.53376581e-01, -3.99016526e-01,\n",
       "         4.17817677e-01, -6.48640141e-01, -2.61409781e-01,\n",
       "        -3.24269016e-01, -1.16084999e-01, -1.81532089e-01],\n",
       "       [-4.75132290e-02, -5.21181241e-01, -2.22028933e-02,\n",
       "        -1.49284397e-01,  9.42210440e-01,  4.46478203e-01,\n",
       "         1.14133277e-01,  9.13327289e-02,  3.51882930e-01,\n",
       "        -2.12301779e-01,  7.15632133e-02, -7.38534901e-01,\n",
       "        -1.50023594e-01, -1.01143599e-01, -2.30002295e-01,\n",
       "         7.33193160e-02, -2.33331390e-02,  2.63406261e-01,\n",
       "         9.40794868e-03, -4.16040114e-01,  2.50176805e-02,\n",
       "        -5.87413902e-01,  2.49839844e-02, -9.59523750e-02,\n",
       "         8.25491466e-01,  4.57606826e-01,  2.33694647e-01,\n",
       "         3.47071662e-01,  2.70564567e-01, -2.42489488e-01],\n",
       "       [-6.72344461e-01, -2.67530925e-01, -6.98957883e-01,\n",
       "        -6.36479175e-01,  2.36249256e-01, -8.56625521e-01,\n",
       "        -7.77771870e-01, -3.55161105e-01, -7.03239713e-01,\n",
       "         1.02620582e-02,  8.65589418e-01,  1.61140331e+00,\n",
       "         6.29649618e-01,  1.93019259e-01, -4.81679166e-01,\n",
       "        -8.62271574e-01, -6.35743353e-01,  4.09394960e-01,\n",
       "        -5.80244364e-01, -3.92210279e-01, -6.02442385e-01,\n",
       "        -3.72460098e-01, -6.60090299e-01, -5.74807798e-01,\n",
       "        -8.18354459e-01, -1.11022312e+00, -1.01222221e+00,\n",
       "        -6.54838446e-01, -1.49281630e+00, -8.19922306e-01],\n",
       "       [-9.29555004e-02, -8.14391699e-01, -6.33930936e-02,\n",
       "        -2.01331475e-01,  3.08838007e-01,  4.48373351e-01,\n",
       "        -1.36966145e-01,  4.56773801e-02, -5.46249146e-01,\n",
       "         4.05773590e-01, -4.56464213e-01, -1.08199020e+00,\n",
       "        -4.50012144e-01, -3.73744782e-01, -7.74691046e-01,\n",
       "        -2.69842456e-01, -4.74268651e-01, -4.20145270e-01,\n",
       "        -1.01007305e+00, -2.51500780e-01,  6.22925359e-02,\n",
       "        -7.84454890e-01,  9.05128289e-02, -1.19859988e-01,\n",
       "         3.82748964e-01,  6.35725946e-01,  2.74011357e-02,\n",
       "         3.60775600e-01, -5.04352346e-01,  1.05590311e+00],\n",
       "       [-7.59146486e-02, -5.49106047e-01, -4.15622875e-02,\n",
       "        -2.16120808e-01,  4.44052346e-01,  8.97523413e-01,\n",
       "         1.28194845e-01,  1.83159306e-01,  1.07476972e+00,\n",
       "         9.01935010e-01, -5.37310517e-01, -4.14639759e-02,\n",
       "        -4.61892879e-01, -3.88265910e-01, -3.60340913e-01,\n",
       "         4.97520920e-01,  2.38607342e-01,  4.14261250e-01,\n",
       "        -1.39518611e-01,  2.89398639e-01, -1.07515139e-01,\n",
       "         2.04006924e-01, -8.52236178e-02, -2.29377950e-01,\n",
       "         5.97544831e-01,  1.16244963e+00,  9.18301255e-01,\n",
       "         7.73416389e-01,  1.17975727e+00,  1.21660899e+00],\n",
       "       [-1.95200611e-01,  5.32980167e-01, -2.38451445e-01,\n",
       "        -2.61342040e-01, -1.04899863e+00, -8.34452290e-01,\n",
       "        -7.24413243e-01, -7.37943803e-01, -1.00834052e-01,\n",
       "        -9.82060782e-01, -6.01554455e-01, -7.08235358e-01,\n",
       "        -6.40598929e-01, -4.35789603e-01, -1.25371047e+00,\n",
       "        -8.08058721e-01, -5.96618066e-01, -7.97282742e-01,\n",
       "        -8.16347446e-01, -9.48996255e-01, -7.02402833e-02,\n",
       "         7.44648312e-01, -1.41816711e-01, -1.62928849e-01,\n",
       "        -1.00684879e+00, -3.17847489e-01, -3.05546997e-01,\n",
       "        -5.18651892e-02,  1.50848802e-01, -6.91911768e-01],\n",
       "       [ 4.89273602e-01,  1.08449508e+00,  4.83200864e-01,\n",
       "         3.63507304e-01, -8.78913219e-01, -7.84777765e-02,\n",
       "         1.32840184e-01,  1.21769628e-01,  1.29175382e-01,\n",
       "        -1.33504419e+00, -6.75664414e-03, -2.51927868e-01,\n",
       "         1.82868136e-02, -8.26621631e-02,  9.09377233e-01,\n",
       "         3.23145557e-01,  6.17260544e-01,  1.31776909e+00,\n",
       "         1.12211940e+00, -2.99916952e-01,  1.18204819e-01,\n",
       "         3.22882892e-01,  1.41148754e-01, -7.17778313e-03,\n",
       "        -8.44655994e-01, -3.93548115e-01, -1.91845689e-01,\n",
       "        -4.12065711e-02, -1.48440611e-01, -1.16793364e+00],\n",
       "       [ 1.12262526e+00,  5.93483912e-01,  1.04750661e+00,\n",
       "         1.04978926e+00, -1.61191727e+00, -3.39629163e-01,\n",
       "         2.69940469e-01,  2.28556715e-01, -1.51947259e-01,\n",
       "        -1.33220898e+00,  8.33828370e-01,  1.59928197e-01,\n",
       "         7.15784944e-01,  7.92565846e-01, -5.03680058e-01,\n",
       "         1.53594856e+00,  9.68393417e-01,  4.28860120e-01,\n",
       "         1.03849181e-01,  4.69446278e-01,  7.22885807e-01,\n",
       "        -1.59134731e-01,  6.50486591e-01,  6.10728535e-01,\n",
       "        -1.93529297e+00, -3.68738666e-01, -8.96584383e-02,\n",
       "        -3.47108913e-01, -8.60264081e-01, -1.01775677e+00],\n",
       "       [ 4.05311718e-02,  7.58705678e-01,  7.41821752e-02,\n",
       "        -7.13559854e-02,  5.29450877e-01,  2.09584711e-01,\n",
       "         7.21919428e-01,  3.21672991e-01,  4.17599911e-01,\n",
       "        -4.22107179e-01, -7.30764174e-01,  1.15055996e+00,\n",
       "        -4.80704042e-01, -4.79573005e-01, -3.09338845e-01,\n",
       "         1.96653582e-02,  4.82643031e-01,  1.56347881e-01,\n",
       "        -7.30381708e-01, -1.47154397e-02, -2.02773103e-01,\n",
       "         1.39928035e+00, -8.82022016e-02, -2.67700447e-01,\n",
       "         2.46857700e-01,  1.21088916e-01,  7.25440809e-01,\n",
       "         3.28799745e-01, -3.28014259e-01, -2.41511677e-02],\n",
       "       [ 8.31333012e-02,  1.11781017e-01,  1.03427217e-01,\n",
       "        -3.52358822e-02,  8.25319013e-02,  1.84947787e-01,\n",
       "         6.37878431e-02,  2.44291044e-01,  2.46005571e-01,\n",
       "         1.56275276e-01, -4.17484744e-01,  1.15055996e+00,\n",
       "        -2.42594318e-01, -2.96738798e-01,  3.21353392e-01,\n",
       "         1.94040721e-01,  4.36440474e-02,  3.96418187e-01,\n",
       "        -7.17063073e-01,  2.48547494e-01,  1.25927287e-02,\n",
       "         8.43983025e-01,  6.66841582e-02, -9.52492100e-02,\n",
       "         4.70420746e-01,  3.07477852e-01,  2.26498362e-01,\n",
       "         6.37899672e-01, -2.95658647e-01,  5.31115323e-01],\n",
       "       [-1.44798723e+00, -4.56023362e-01, -1.36665103e+00,\n",
       "        -1.15012411e+00,  7.28714114e-01,  7.00428027e-01,\n",
       "         2.81483311e+00, -1.33332857e-01,  1.09302444e+00,\n",
       "         2.50382760e+00, -2.80695685e-01, -4.14639759e-02,\n",
       "        -4.85654348e-01, -4.98714492e-01,  8.36040927e-01,\n",
       "         3.38589232e+00,  9.01560288e+00,  3.47515764e+00,\n",
       "         2.59443400e+00,  2.18027710e+00, -1.23404410e+00,\n",
       "        -4.92964503e-01, -1.24389273e+00, -9.77194017e-01,\n",
       "         6.93983792e-01,  1.15926893e+00,  4.70066880e+00,\n",
       "         9.19591724e-01,  2.14719008e+00,  1.85943247e+00],\n",
       "       [-1.80999901e-01,  7.00529000e-01, -2.08382598e-01,\n",
       "        -2.67030245e-01, -6.29122518e-01, -5.18531128e-01,\n",
       "        -5.18386167e-01, -3.88951222e-01, -9.56046689e-03,\n",
       "        -7.96354651e-01, -6.18517743e-01,  2.47016704e-01,\n",
       "        -5.59908940e-01, -4.43050167e-01, -8.62027920e-01,\n",
       "        -6.51568010e-01, -3.62861054e-01,  7.11498916e-03,\n",
       "        -5.00332551e-01, -6.95567855e-01, -2.31764657e-01,\n",
       "         1.00031306e+00, -2.46067145e-01, -3.19558872e-01,\n",
       "        -7.08764731e-01, -5.29045875e-01, -2.11035784e-01,\n",
       "         2.06986966e-01, -4.81382136e-02, -8.18813990e-01],\n",
       "       [ 1.79698128e-01, -1.05873375e+00,  1.19491395e-01,\n",
       "         3.92796063e-02, -5.41589025e-01, -5.02990915e-01,\n",
       "        -5.36339776e-01, -3.51807888e-01, -1.06103217e+00,\n",
       "        -5.21339463e-01, -2.25113850e-01, -1.48550028e+00,\n",
       "        -1.62894390e-01, -2.48115020e-01, -7.69690843e-01,\n",
       "        -5.82264982e-01, -4.42437909e-01, -1.82670320e-01,\n",
       "         1.31697237e-01, -3.82753996e-01,  2.07250307e-01,\n",
       "        -1.26158720e+00,  2.06677599e-01,  3.81241526e-04,\n",
       "        -4.54516561e-01, -3.39476239e-01, -2.73883342e-01,\n",
       "         1.59784514e-01,  3.36893572e-01, -1.15033108e-01],\n",
       "       [-5.38857788e-01,  6.29126074e-02, -5.53144574e-01,\n",
       "        -5.51440507e-01, -3.56027323e-02, -4.44809873e-01,\n",
       "        -5.89196204e-01, -2.02460730e-01,  6.11099911e-01,\n",
       "        -3.78161454e-01, -1.86856224e-01,  1.98029419e-01,\n",
       "        -2.76256400e-01, -2.88158131e-01,  1.57680090e-01,\n",
       "        -4.29686539e-01, -5.92970793e-01, -6.42572637e-02,\n",
       "        -6.67420886e-01, -1.72824501e-01, -3.78793253e-01,\n",
       "         4.36873546e-01, -4.50100138e-01, -4.25736800e-01,\n",
       "         4.61653568e-01, -3.18483629e-01, -6.45211663e-01,\n",
       "        -1.00590301e-01, -3.76547678e-01, -1.22237165e-01],\n",
       "       [-2.23602031e-01, -7.98102229e-01, -2.25682483e-01,\n",
       "        -3.83638452e-01,  8.14112645e-01,  9.31636076e-01,\n",
       "         3.52803278e-01,  5.40405961e-01,  4.76015005e-01,\n",
       "         8.82088554e-01, -4.30116979e-01, -3.64417190e-01,\n",
       "        -6.58915062e-01, -6.02342545e-01, -8.23296415e-02,\n",
       "         5.74089589e-01,  2.62148829e-01,  3.29912224e-01,\n",
       "         9.65844712e-02,  3.05663447e-01, -1.53073295e-01,\n",
       "        -4.05028856e-01, -3.15766007e-01, -4.67047748e-01,\n",
       "         9.30697605e-01,  1.43026445e+00,  1.02480628e+00,\n",
       "         8.55640015e-01,  1.01312587e+00,  9.78320970e-01],\n",
       "       [ 2.63304620e-02,  1.99205126e+00,  2.39301309e-02,\n",
       "        -8.81361908e-02, -1.00558771e+00, -8.35730266e-03,\n",
       "         2.69940469e-01, -1.24820843e-01, -1.71455103e+00,\n",
       "        -2.13719383e-01, -2.51822004e-01,  2.00874463e+00,\n",
       "        -3.76747614e-01, -2.28313481e-01, -2.44669557e-01,\n",
       "         1.66095951e-01,  2.19044699e-01, -2.73507732e-01,\n",
       "        -1.05245053e+00, -7.78834138e-02, -1.07515139e-01,\n",
       "         2.42031093e+00, -1.41816711e-01, -2.04942963e-01,\n",
       "        -1.06383545e+00, -7.42059774e-02,  1.64130556e-01,\n",
       "        -4.93588779e-01, -1.63518099e+00, -3.31708955e-01],\n",
       "       [-3.20166857e-01,  3.46814797e-01, -3.48429279e-01,\n",
       "        -3.85344914e-01,  1.21975566e+00, -5.39188241e-01,\n",
       "        -7.21148950e-01, -5.79568752e-01,  2.65927916e+00,\n",
       "        -2.73258753e-01,  5.42390052e-02,  1.90772043e-01,\n",
       "         3.43589524e-03, -1.22265240e-01, -7.99329421e-03,\n",
       "        -7.85702905e-01, -4.11270307e-01, -4.31700072e-02,\n",
       "         1.08579585e+00, -8.55568173e-01, -4.36776361e-01,\n",
       "        -2.55212568e-01, -4.89715304e-01, -4.63883505e-01,\n",
       "        -1.16980198e-01, -9.14546543e-01, -9.16655544e-01,\n",
       "        -7.86396247e-01,  4.77640485e-01, -1.08591823e+00],\n",
       "       [ 1.05730199e+00, -1.41012088e+00,  9.32174046e-01,\n",
       "         9.59062392e-01, -1.27957466e+00, -7.99202538e-01,\n",
       "        -5.56804378e-01, -1.84147002e-01, -2.15996613e+00,\n",
       "        -1.46971658e+00,  2.82341078e-01, -3.09986873e-01,\n",
       "         1.46994772e-01,  2.33502404e-01, -8.90695749e-01,\n",
       "        -9.61531396e-01, -6.75200210e-01, -7.07094168e-01,\n",
       "        -9.10788678e-01, -9.40296474e-01,  7.35310758e-01,\n",
       "        -1.18179374e+00,  5.90914914e-01,  5.79086106e-01,\n",
       "        -1.47939970e+00, -9.82867949e-01, -8.03050187e-01,\n",
       "        -4.75012331e-01, -1.80828352e+00, -1.39846344e+00],\n",
       "       [ 4.49511614e-01, -1.24722618e+00,  4.13177523e-01,\n",
       "         3.03781149e-01, -1.23847880e-01, -1.84227032e-01,\n",
       "        -2.19075656e-01,  2.68537387e-01,  1.59961369e-02,\n",
       "        -7.89266630e-01, -3.37360282e-01, -7.28193141e-01,\n",
       "        -4.42586685e-01, -2.72756934e-01, -6.08017622e-01,\n",
       "        -5.77234923e-01, -5.01125840e-01,  1.43371108e-01,\n",
       "        -4.66430570e-01, -5.54101854e-01,  2.54879289e-01,\n",
       "        -1.04663339e+00,  2.09656183e-01,  7.42135754e-02,\n",
       "        -4.41365794e-01, -3.77644622e-01, -4.85933882e-01,\n",
       "         3.47071662e-01, -2.87569744e-01, -7.33473631e-01],\n",
       "       [ 9.73340110e-02,  1.32651006e+00,  1.58210184e-01,\n",
       "         4.29714414e-03, -5.68631893e-01,  3.53615954e-01,\n",
       "         1.51923740e-01, -2.58433672e-01,  2.20448967e-01,\n",
       "         8.68126773e-02, -5.44889858e-01, -2.50113524e-01,\n",
       "        -1.24282002e-01, -3.79025192e-01,  3.23416745e-02,\n",
       "         1.17657882e+00,  2.12081724e-01, -2.85711373e-02,\n",
       "         1.66726589e-02,  8.76066471e-01, -1.01863496e-02,\n",
       "         9.85657123e-01,  1.85827512e-01, -1.26012682e-01,\n",
       "         7.15141351e-02,  1.05557816e+00,  6.32368853e-01,\n",
       "         8.97421664e-02,  4.63080460e-01,  1.01711204e+00],\n",
       "       [-4.70694381e-01, -1.60485837e-01, -4.48109564e-01,\n",
       "        -4.91998762e-01,  2.34114293e-01,  2.76505082e-02,\n",
       "        -1.09847407e-01, -2.76231519e-01,  4.13948967e-01,\n",
       "         1.32176007e-01, -3.27429563e-02, -3.13615561e-01,\n",
       "        -1.82695614e-01, -2.21052917e-01, -2.93274925e-02,\n",
       "        -3.55912347e-01, -1.61929495e-01, -2.31333219e-01,\n",
       "        -3.29611861e-01, -7.90181678e-02, -2.69039512e-01,\n",
       "        -1.68905358e-01, -3.33935369e-01, -3.56299248e-01,\n",
       "         4.48502801e-01, -1.04740684e-01, -2.44121184e-02,\n",
       "        -1.99563184e-01,  1.83204414e-01,  1.96957944e-01],\n",
       "       [-2.12241463e-01,  2.65991952e+00, -2.31861013e-01,\n",
       "        -2.77837835e-01, -2.78276889e-01, -5.70079152e-01,\n",
       "        -7.60948209e-01, -4.19904001e-01, -1.59406990e+00,\n",
       "        -3.73908641e-01, -2.32332270e-01,  1.28300707e+00,\n",
       "        -2.86652043e-01, -2.50975242e-01, -4.00009188e-01,\n",
       "        -7.27577784e-01, -7.94366550e-01, -4.32797624e-01,\n",
       "        -5.93562999e-01, -3.06347224e-01, -2.52472910e-01,\n",
       "         2.59455378e+00, -3.14872432e-01, -3.07605065e-01,\n",
       "        -6.64928840e-01, -7.13526393e-01, -9.69860080e-01,\n",
       "        -5.63022063e-01, -1.14014013e+00, -3.98762094e-01],\n",
       "       [ 6.73882829e-01, -2.32624918e-01,  6.02652444e-01,\n",
       "         5.21070589e-01,  3.55627096e-02, -3.72604737e-01,\n",
       "        -3.78900438e-01, -1.46805385e-02, -1.15595669e+00,\n",
       "        -9.73555158e-01, -2.39189769e-01,  4.03050279e-01,\n",
       "        -2.58435298e-01, -1.48667292e-01,  7.20099495e-02,\n",
       "        -4.15155259e-01, -4.50064024e-01, -2.37821606e-01,\n",
       "        -4.36160944e-01, -6.78546545e-01,  3.85341283e-01,\n",
       "        -3.70018872e-02,  2.96035114e-01,  2.25745651e-01,\n",
       "         6.27469568e-02, -5.49402346e-01, -5.08002490e-01,\n",
       "        -3.55940339e-01, -8.19819565e-01, -1.06707685e+00],\n",
       "       [-6.35422615e-01, -4.49042160e-01, -6.49529643e-01,\n",
       "        -6.23680713e-01,  1.86024464e+00, -6.11014348e-01,\n",
       "        -3.70488607e-01,  6.47966868e-01,  7.42533873e-01,\n",
       "        -5.73790814e-01,  8.51874420e-01,  1.95249997e+00,\n",
       "         5.71731036e-01,  1.87078797e-01,  2.37977018e+00,\n",
       "        -5.91766203e-01, -6.37401204e-01,  1.18475716e+00,\n",
       "         7.55251531e-01, -2.99916952e-01, -8.01241614e-01,\n",
       "        -1.08897278e+00, -8.28082428e-01, -7.17550310e-01,\n",
       "         1.54802329e-01, -1.08515921e+00, -9.62663795e-01,\n",
       "        -3.82891416e-01, -1.10131339e+00, -1.30868982e+00],\n",
       "       [ 2.36500967e-01, -4.41324804e-02,  2.08462228e-01,\n",
       "         9.21799149e-02, -4.58325458e-01, -1.15812191e-01,\n",
       "        -3.69107561e-01, -1.88075757e-02,  2.46005571e-01,\n",
       "        -6.06395707e-01, -4.23981322e-01, -4.87792575e-01,\n",
       "        -3.44075593e-01, -3.40302183e-01, -5.69682734e-01,\n",
       "        -2.41897686e-01, -5.48208812e-01,  1.19812791e-02,\n",
       "        -6.44415971e-01, -3.70649953e-01, -3.97387372e-03,\n",
       "         8.35025185e-02,  5.47698228e-02, -1.24430561e-01,\n",
       "        -4.68427716e-02,  3.10022411e-01, -4.40357408e-01,\n",
       "         5.22177532e-01,  9.90798220e-02,  4.29019714e-02]])"
      ]
     },
     "execution_count": 86,
     "metadata": {},
     "output_type": "execute_result"
    }
   ],
   "source": [
    "svm_classifier.support_vectors_"
   ]
  },
  {
   "cell_type": "code",
   "execution_count": 87,
   "metadata": {},
   "outputs": [
    {
     "name": "stdout",
     "output_type": "stream",
     "text": [
      "[[ 0.42162703 -0.01042556 -0.10633106  0.03570262  0.11444302  2.19345926\n",
      "  -1.76111207 -1.26730006 -0.53765672 -0.24042528 -1.69907785  0.65362168\n",
      "  -0.26923037 -2.29824279 -0.07699183  0.85735205  1.09271426 -1.98172125\n",
      "   0.11654125  2.74998566 -1.10207985 -1.5295359  -1.14410771 -1.55854086\n",
      "  -0.52115932  0.52531581 -1.79346975  0.48201995 -0.35469031 -2.09308875]]\n",
      "[-0.63528362]\n"
     ]
    }
   ],
   "source": [
    "weight=svm_classifier.coef_\n",
    "intercept=svm_classifier.intercept_\n",
    "print(weight)\n",
    "print(intercept)"
   ]
  },
  {
   "cell_type": "code",
   "execution_count": 95,
   "metadata": {},
   "outputs": [],
   "source": [
    "y_pred = svm_classifier.predict(X_test)"
   ]
  },
  {
   "cell_type": "code",
   "execution_count": 96,
   "metadata": {},
   "outputs": [
    {
     "name": "stdout",
     "output_type": "stream",
     "text": [
      "[[50  3]\n",
      " [ 3 87]]\n"
     ]
    }
   ],
   "source": [
    "from sklearn import metrics\n",
    "\n",
    "confusion = metrics.confusion_matrix(y_test, y_pred)\n",
    "print(confusion)"
   ]
  },
  {
   "cell_type": "code",
   "execution_count": 98,
   "metadata": {},
   "outputs": [],
   "source": [
    "total = 0\n",
    "for i in confusion:\n",
    "    for y in i:\n",
    "        total += y"
   ]
  },
  {
   "cell_type": "code",
   "execution_count": 99,
   "metadata": {},
   "outputs": [
    {
     "name": "stdout",
     "output_type": "stream",
     "text": [
      "0.958041958041958\n"
     ]
    }
   ],
   "source": [
    "accuracy = (confusion[0][0] + confusion[1][1]) / total\n",
    "\n",
    "print(accuracy)"
   ]
  },
  {
   "cell_type": "code",
   "execution_count": 100,
   "metadata": {},
   "outputs": [
    {
     "name": "stdout",
     "output_type": "stream",
     "text": [
      "0.04195804195804196\n"
     ]
    }
   ],
   "source": [
    "misaccuracy = (confusion[0][1] + confusion[1][0]) / total\n",
    "\n",
    "print(misaccuracy)"
   ]
  },
  {
   "cell_type": "code",
   "execution_count": 101,
   "metadata": {},
   "outputs": [
    {
     "name": "stdout",
     "output_type": "stream",
     "text": [
      "0.9666666666666667\n"
     ]
    }
   ],
   "source": [
    "precision = confusion[1][1] / (confusion[0][1] + confusion[1][1])\n",
    "\n",
    "print(precision)"
   ]
  },
  {
   "cell_type": "code",
   "execution_count": 102,
   "metadata": {},
   "outputs": [
    {
     "name": "stdout",
     "output_type": "stream",
     "text": [
      "0.9666666666666667\n"
     ]
    }
   ],
   "source": [
    "recall = confusion[1][1] / (confusion[1][0] + confusion[1][1])\n",
    "\n",
    "print(recall)"
   ]
  },
  {
   "cell_type": "code",
   "execution_count": 103,
   "metadata": {},
   "outputs": [
    {
     "name": "stdout",
     "output_type": "stream",
     "text": [
      "0.9666666666666667\n"
     ]
    }
   ],
   "source": [
    "f1_score = 2 * precision * recall / (precision + recall)\n",
    "\n",
    "print(f1_score)"
   ]
  },
  {
   "cell_type": "code",
   "execution_count": null,
   "metadata": {},
   "outputs": [],
   "source": [
    "\n"
   ]
  },
  {
   "cell_type": "code",
   "execution_count": null,
   "metadata": {},
   "outputs": [],
   "source": []
  }
 ],
 "metadata": {
  "kernelspec": {
   "display_name": "Python 3",
   "language": "python",
   "name": "python3"
  },
  "language_info": {
   "codemirror_mode": {
    "name": "ipython",
    "version": 3
   },
   "file_extension": ".py",
   "mimetype": "text/x-python",
   "name": "python",
   "nbconvert_exporter": "python",
   "pygments_lexer": "ipython3",
   "version": "3.7.4"
  }
 },
 "nbformat": 4,
 "nbformat_minor": 2
}
