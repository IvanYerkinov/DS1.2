{
 "cells": [
  {
   "cell_type": "code",
   "execution_count": 282,
   "metadata": {},
   "outputs": [],
   "source": [
    "import pandas as pd\n",
    "import numpy as np\n",
    "\n",
    "df = pd.read_csv(\"KNYC.csv\")"
   ]
  },
  {
   "cell_type": "code",
   "execution_count": 283,
   "metadata": {},
   "outputs": [
    {
     "data": {
      "text/html": [
       "<div>\n",
       "<style scoped>\n",
       "    .dataframe tbody tr th:only-of-type {\n",
       "        vertical-align: middle;\n",
       "    }\n",
       "\n",
       "    .dataframe tbody tr th {\n",
       "        vertical-align: top;\n",
       "    }\n",
       "\n",
       "    .dataframe thead th {\n",
       "        text-align: right;\n",
       "    }\n",
       "</style>\n",
       "<table border=\"1\" class=\"dataframe\">\n",
       "  <thead>\n",
       "    <tr style=\"text-align: right;\">\n",
       "      <th></th>\n",
       "      <th>date</th>\n",
       "      <th>actual_mean_temp</th>\n",
       "      <th>actual_min_temp</th>\n",
       "      <th>actual_max_temp</th>\n",
       "      <th>average_min_temp</th>\n",
       "      <th>average_max_temp</th>\n",
       "      <th>record_min_temp</th>\n",
       "      <th>record_max_temp</th>\n",
       "      <th>record_min_temp_year</th>\n",
       "      <th>record_max_temp_year</th>\n",
       "      <th>actual_precipitation</th>\n",
       "      <th>average_precipitation</th>\n",
       "      <th>record_precipitation</th>\n",
       "    </tr>\n",
       "  </thead>\n",
       "  <tbody>\n",
       "    <tr>\n",
       "      <th>0</th>\n",
       "      <td>2014-7-1</td>\n",
       "      <td>81</td>\n",
       "      <td>72</td>\n",
       "      <td>89</td>\n",
       "      <td>68</td>\n",
       "      <td>83</td>\n",
       "      <td>52</td>\n",
       "      <td>100</td>\n",
       "      <td>1943</td>\n",
       "      <td>1901</td>\n",
       "      <td>0.00</td>\n",
       "      <td>0.12</td>\n",
       "      <td>2.17</td>\n",
       "    </tr>\n",
       "    <tr>\n",
       "      <th>1</th>\n",
       "      <td>2014-7-2</td>\n",
       "      <td>82</td>\n",
       "      <td>72</td>\n",
       "      <td>91</td>\n",
       "      <td>68</td>\n",
       "      <td>83</td>\n",
       "      <td>56</td>\n",
       "      <td>100</td>\n",
       "      <td>2001</td>\n",
       "      <td>1966</td>\n",
       "      <td>0.96</td>\n",
       "      <td>0.13</td>\n",
       "      <td>1.79</td>\n",
       "    </tr>\n",
       "    <tr>\n",
       "      <th>2</th>\n",
       "      <td>2014-7-3</td>\n",
       "      <td>78</td>\n",
       "      <td>69</td>\n",
       "      <td>87</td>\n",
       "      <td>68</td>\n",
       "      <td>83</td>\n",
       "      <td>54</td>\n",
       "      <td>103</td>\n",
       "      <td>1933</td>\n",
       "      <td>1966</td>\n",
       "      <td>1.78</td>\n",
       "      <td>0.12</td>\n",
       "      <td>2.80</td>\n",
       "    </tr>\n",
       "    <tr>\n",
       "      <th>3</th>\n",
       "      <td>2014-7-4</td>\n",
       "      <td>70</td>\n",
       "      <td>65</td>\n",
       "      <td>74</td>\n",
       "      <td>68</td>\n",
       "      <td>84</td>\n",
       "      <td>55</td>\n",
       "      <td>102</td>\n",
       "      <td>1986</td>\n",
       "      <td>1949</td>\n",
       "      <td>0.14</td>\n",
       "      <td>0.13</td>\n",
       "      <td>1.76</td>\n",
       "    </tr>\n",
       "    <tr>\n",
       "      <th>4</th>\n",
       "      <td>2014-7-5</td>\n",
       "      <td>72</td>\n",
       "      <td>63</td>\n",
       "      <td>81</td>\n",
       "      <td>68</td>\n",
       "      <td>84</td>\n",
       "      <td>53</td>\n",
       "      <td>101</td>\n",
       "      <td>1979</td>\n",
       "      <td>1999</td>\n",
       "      <td>0.00</td>\n",
       "      <td>0.12</td>\n",
       "      <td>3.07</td>\n",
       "    </tr>\n",
       "    <tr>\n",
       "      <th>...</th>\n",
       "      <td>...</td>\n",
       "      <td>...</td>\n",
       "      <td>...</td>\n",
       "      <td>...</td>\n",
       "      <td>...</td>\n",
       "      <td>...</td>\n",
       "      <td>...</td>\n",
       "      <td>...</td>\n",
       "      <td>...</td>\n",
       "      <td>...</td>\n",
       "      <td>...</td>\n",
       "      <td>...</td>\n",
       "      <td>...</td>\n",
       "    </tr>\n",
       "    <tr>\n",
       "      <th>360</th>\n",
       "      <td>2015-6-26</td>\n",
       "      <td>75</td>\n",
       "      <td>69</td>\n",
       "      <td>81</td>\n",
       "      <td>67</td>\n",
       "      <td>82</td>\n",
       "      <td>56</td>\n",
       "      <td>100</td>\n",
       "      <td>1979</td>\n",
       "      <td>1952</td>\n",
       "      <td>0.00</td>\n",
       "      <td>0.13</td>\n",
       "      <td>4.29</td>\n",
       "    </tr>\n",
       "    <tr>\n",
       "      <th>361</th>\n",
       "      <td>2015-6-27</td>\n",
       "      <td>65</td>\n",
       "      <td>58</td>\n",
       "      <td>71</td>\n",
       "      <td>67</td>\n",
       "      <td>82</td>\n",
       "      <td>55</td>\n",
       "      <td>101</td>\n",
       "      <td>1940</td>\n",
       "      <td>1966</td>\n",
       "      <td>1.12</td>\n",
       "      <td>0.12</td>\n",
       "      <td>2.11</td>\n",
       "    </tr>\n",
       "    <tr>\n",
       "      <th>362</th>\n",
       "      <td>2015-6-28</td>\n",
       "      <td>68</td>\n",
       "      <td>62</td>\n",
       "      <td>73</td>\n",
       "      <td>67</td>\n",
       "      <td>83</td>\n",
       "      <td>54</td>\n",
       "      <td>96</td>\n",
       "      <td>1995</td>\n",
       "      <td>1991</td>\n",
       "      <td>0.29</td>\n",
       "      <td>0.13</td>\n",
       "      <td>1.69</td>\n",
       "    </tr>\n",
       "    <tr>\n",
       "      <th>363</th>\n",
       "      <td>2015-6-29</td>\n",
       "      <td>70</td>\n",
       "      <td>63</td>\n",
       "      <td>76</td>\n",
       "      <td>67</td>\n",
       "      <td>83</td>\n",
       "      <td>52</td>\n",
       "      <td>101</td>\n",
       "      <td>1919</td>\n",
       "      <td>1934</td>\n",
       "      <td>0.00</td>\n",
       "      <td>0.12</td>\n",
       "      <td>2.57</td>\n",
       "    </tr>\n",
       "    <tr>\n",
       "      <th>364</th>\n",
       "      <td>2015-6-30</td>\n",
       "      <td>75</td>\n",
       "      <td>68</td>\n",
       "      <td>82</td>\n",
       "      <td>67</td>\n",
       "      <td>83</td>\n",
       "      <td>53</td>\n",
       "      <td>99</td>\n",
       "      <td>1919</td>\n",
       "      <td>1964</td>\n",
       "      <td>0.00</td>\n",
       "      <td>0.13</td>\n",
       "      <td>3.07</td>\n",
       "    </tr>\n",
       "  </tbody>\n",
       "</table>\n",
       "<p>365 rows × 13 columns</p>\n",
       "</div>"
      ],
      "text/plain": [
       "          date  actual_mean_temp  actual_min_temp  actual_max_temp  \\\n",
       "0     2014-7-1                81               72               89   \n",
       "1     2014-7-2                82               72               91   \n",
       "2     2014-7-3                78               69               87   \n",
       "3     2014-7-4                70               65               74   \n",
       "4     2014-7-5                72               63               81   \n",
       "..         ...               ...              ...              ...   \n",
       "360  2015-6-26                75               69               81   \n",
       "361  2015-6-27                65               58               71   \n",
       "362  2015-6-28                68               62               73   \n",
       "363  2015-6-29                70               63               76   \n",
       "364  2015-6-30                75               68               82   \n",
       "\n",
       "     average_min_temp  average_max_temp  record_min_temp  record_max_temp  \\\n",
       "0                  68                83               52              100   \n",
       "1                  68                83               56              100   \n",
       "2                  68                83               54              103   \n",
       "3                  68                84               55              102   \n",
       "4                  68                84               53              101   \n",
       "..                ...               ...              ...              ...   \n",
       "360                67                82               56              100   \n",
       "361                67                82               55              101   \n",
       "362                67                83               54               96   \n",
       "363                67                83               52              101   \n",
       "364                67                83               53               99   \n",
       "\n",
       "     record_min_temp_year  record_max_temp_year  actual_precipitation  \\\n",
       "0                    1943                  1901                  0.00   \n",
       "1                    2001                  1966                  0.96   \n",
       "2                    1933                  1966                  1.78   \n",
       "3                    1986                  1949                  0.14   \n",
       "4                    1979                  1999                  0.00   \n",
       "..                    ...                   ...                   ...   \n",
       "360                  1979                  1952                  0.00   \n",
       "361                  1940                  1966                  1.12   \n",
       "362                  1995                  1991                  0.29   \n",
       "363                  1919                  1934                  0.00   \n",
       "364                  1919                  1964                  0.00   \n",
       "\n",
       "     average_precipitation  record_precipitation  \n",
       "0                     0.12                  2.17  \n",
       "1                     0.13                  1.79  \n",
       "2                     0.12                  2.80  \n",
       "3                     0.13                  1.76  \n",
       "4                     0.12                  3.07  \n",
       "..                     ...                   ...  \n",
       "360                   0.13                  4.29  \n",
       "361                   0.12                  2.11  \n",
       "362                   0.13                  1.69  \n",
       "363                   0.12                  2.57  \n",
       "364                   0.13                  3.07  \n",
       "\n",
       "[365 rows x 13 columns]"
      ]
     },
     "execution_count": 283,
     "metadata": {},
     "output_type": "execute_result"
    }
   ],
   "source": [
    "df"
   ]
  },
  {
   "cell_type": "code",
   "execution_count": 284,
   "metadata": {},
   "outputs": [],
   "source": [
    "en_target = df[\"actual_precipitation\"]"
   ]
  },
  {
   "cell_type": "code",
   "execution_count": 285,
   "metadata": {},
   "outputs": [],
   "source": [
    "data2 = df.drop(columns=['date', 'actual_precipitation', 'record_min_temp'])"
   ]
  },
  {
   "cell_type": "code",
   "execution_count": 286,
   "metadata": {},
   "outputs": [],
   "source": [
    "data_org = df.drop(columns=['date', 'actual_precipitation', 'record_min_temp', 'record_max_temp', 'record_min_temp_year', 'record_max_temp_year', 'average_precipitation', 'record_precipitation', 'average_min_temp', 'average_max_temp'])"
   ]
  },
  {
   "cell_type": "code",
   "execution_count": 287,
   "metadata": {},
   "outputs": [],
   "source": [
    "data = data_org"
   ]
  },
  {
   "cell_type": "code",
   "execution_count": 288,
   "metadata": {},
   "outputs": [
    {
     "data": {
      "text/html": [
       "<div>\n",
       "<style scoped>\n",
       "    .dataframe tbody tr th:only-of-type {\n",
       "        vertical-align: middle;\n",
       "    }\n",
       "\n",
       "    .dataframe tbody tr th {\n",
       "        vertical-align: top;\n",
       "    }\n",
       "\n",
       "    .dataframe thead th {\n",
       "        text-align: right;\n",
       "    }\n",
       "</style>\n",
       "<table border=\"1\" class=\"dataframe\">\n",
       "  <thead>\n",
       "    <tr style=\"text-align: right;\">\n",
       "      <th></th>\n",
       "      <th>actual_mean_temp</th>\n",
       "      <th>actual_min_temp</th>\n",
       "      <th>actual_max_temp</th>\n",
       "    </tr>\n",
       "  </thead>\n",
       "  <tbody>\n",
       "    <tr>\n",
       "      <th>0</th>\n",
       "      <td>81</td>\n",
       "      <td>72</td>\n",
       "      <td>89</td>\n",
       "    </tr>\n",
       "    <tr>\n",
       "      <th>1</th>\n",
       "      <td>82</td>\n",
       "      <td>72</td>\n",
       "      <td>91</td>\n",
       "    </tr>\n",
       "    <tr>\n",
       "      <th>2</th>\n",
       "      <td>78</td>\n",
       "      <td>69</td>\n",
       "      <td>87</td>\n",
       "    </tr>\n",
       "    <tr>\n",
       "      <th>3</th>\n",
       "      <td>70</td>\n",
       "      <td>65</td>\n",
       "      <td>74</td>\n",
       "    </tr>\n",
       "    <tr>\n",
       "      <th>4</th>\n",
       "      <td>72</td>\n",
       "      <td>63</td>\n",
       "      <td>81</td>\n",
       "    </tr>\n",
       "    <tr>\n",
       "      <th>...</th>\n",
       "      <td>...</td>\n",
       "      <td>...</td>\n",
       "      <td>...</td>\n",
       "    </tr>\n",
       "    <tr>\n",
       "      <th>360</th>\n",
       "      <td>75</td>\n",
       "      <td>69</td>\n",
       "      <td>81</td>\n",
       "    </tr>\n",
       "    <tr>\n",
       "      <th>361</th>\n",
       "      <td>65</td>\n",
       "      <td>58</td>\n",
       "      <td>71</td>\n",
       "    </tr>\n",
       "    <tr>\n",
       "      <th>362</th>\n",
       "      <td>68</td>\n",
       "      <td>62</td>\n",
       "      <td>73</td>\n",
       "    </tr>\n",
       "    <tr>\n",
       "      <th>363</th>\n",
       "      <td>70</td>\n",
       "      <td>63</td>\n",
       "      <td>76</td>\n",
       "    </tr>\n",
       "    <tr>\n",
       "      <th>364</th>\n",
       "      <td>75</td>\n",
       "      <td>68</td>\n",
       "      <td>82</td>\n",
       "    </tr>\n",
       "  </tbody>\n",
       "</table>\n",
       "<p>365 rows × 3 columns</p>\n",
       "</div>"
      ],
      "text/plain": [
       "     actual_mean_temp  actual_min_temp  actual_max_temp\n",
       "0                  81               72               89\n",
       "1                  82               72               91\n",
       "2                  78               69               87\n",
       "3                  70               65               74\n",
       "4                  72               63               81\n",
       "..                ...              ...              ...\n",
       "360                75               69               81\n",
       "361                65               58               71\n",
       "362                68               62               73\n",
       "363                70               63               76\n",
       "364                75               68               82\n",
       "\n",
       "[365 rows x 3 columns]"
      ]
     },
     "execution_count": 288,
     "metadata": {},
     "output_type": "execute_result"
    }
   ],
   "source": [
    "data"
   ]
  },
  {
   "cell_type": "markdown",
   "metadata": {},
   "source": [
    "Data Scaling:"
   ]
  },
  {
   "cell_type": "code",
   "execution_count": 289,
   "metadata": {},
   "outputs": [],
   "source": [
    "from sklearn.preprocessing import StandardScaler\n",
    "\n",
    "scalar = StandardScaler()"
   ]
  },
  {
   "cell_type": "code",
   "execution_count": 290,
   "metadata": {},
   "outputs": [],
   "source": [
    "data_transformed = scalar.fit_transform(data)"
   ]
  },
  {
   "cell_type": "code",
   "execution_count": 291,
   "metadata": {},
   "outputs": [
    {
     "data": {
      "text/plain": [
       "array([[1.4078744 , 1.35619589, 1.40398116],\n",
       "       [1.46148114, 1.35619589, 1.50696611],\n",
       "       [1.2470542 , 1.19183125, 1.30099621],\n",
       "       ...,\n",
       "       [0.71098685, 0.80831376, 0.58010154],\n",
       "       [0.81820032, 0.86310198, 0.73457897],\n",
       "       [1.08623399, 1.13704304, 1.04353383]])"
      ]
     },
     "execution_count": 291,
     "metadata": {},
     "output_type": "execute_result"
    }
   ],
   "source": [
    "data_transformed"
   ]
  },
  {
   "cell_type": "markdown",
   "metadata": {},
   "source": [
    "K_Means and Clusters:"
   ]
  },
  {
   "cell_type": "code",
   "execution_count": 292,
   "metadata": {},
   "outputs": [],
   "source": [
    "from sklearn.cluster import KMeans\n",
    "import numpy as np\n",
    "from scipy.spatial import distance\n",
    "import matplotlib.pyplot as plt"
   ]
  },
  {
   "cell_type": "code",
   "execution_count": 293,
   "metadata": {},
   "outputs": [
    {
     "data": {
      "image/png": "[encoded data removed]",
      "text/plain": [
       "<Figure size 432x288 with 1 Axes>"
      ]
     },
     "metadata": {
      "needs_background": "light"
     },
     "output_type": "display_data"
    }
   ],
   "source": [
    "dis = []\n",
    "K = range(1, 10)\n",
    "\n",
    "for k in K:\n",
    "    km = KMeans(n_clusters=k)\n",
    "    km.fit(data_transformed)\n",
    "    dis.append(sum(np.min(distance.cdist(data_transformed, km.cluster_centers_, 'euclidean'), axis=1)) / data_transformed.shape[0])\n",
    "    \n",
    "plt.plot(K, dis, 'bx-')\n",
    "plt.xlabel('k')\n",
    "plt.ylabel('Distortion')\n",
    "plt.title('The Elbow Method showing the optimal k')\n",
    "plt.show()"
   ]
  },
  {
   "cell_type": "markdown",
   "metadata": {},
   "source": [
    "Correlations:"
   ]
  },
  {
   "cell_type": "code",
   "execution_count": 294,
   "metadata": {},
   "outputs": [],
   "source": [
    "data_corelation = data.corr()"
   ]
  },
  {
   "cell_type": "code",
   "execution_count": 295,
   "metadata": {},
   "outputs": [
    {
     "data": {
      "text/plain": [
       "<matplotlib.axes._subplots.AxesSubplot at 0x12e749150>"
      ]
     },
     "execution_count": 295,
     "metadata": {},
     "output_type": "execute_result"
    },
    {
     "data": {
      "image/png": "[encoded data removed]",
      "text/plain": [
       "<Figure size 432x288 with 2 Axes>"
      ]
     },
     "metadata": {
      "needs_background": "light"
     },
     "output_type": "display_data"
    }
   ],
   "source": [
    "import seaborn as sns\n",
    "sns.heatmap(data_corelation)"
   ]
  },
  {
   "cell_type": "markdown",
   "metadata": {},
   "source": [
    "PCA Means:"
   ]
  },
  {
   "cell_type": "code",
   "execution_count": 296,
   "metadata": {},
   "outputs": [
    {
     "data": {
      "text/plain": [
       "<matplotlib.collections.PathCollection at 0x12e072510>"
      ]
     },
     "execution_count": 296,
     "metadata": {},
     "output_type": "execute_result"
    },
    {
     "data": {
      "image/png": "[encoded data removed]",
      "text/plain": [
       "<Figure size 432x288 with 1 Axes>"
      ]
     },
     "metadata": {
      "needs_background": "light"
     },
     "output_type": "display_data"
    }
   ],
   "source": [
    "plt.scatter(data_transformed[:, 0], data_transformed[:, 1])"
   ]
  },
  {
   "cell_type": "code",
   "execution_count": 297,
   "metadata": {},
   "outputs": [],
   "source": [
    "from sklearn.decomposition import PCA\n",
    "pca = PCA(n_components=2)\n",
    "principalComponents = pca.fit_transform(data_transformed)\n",
    "principalDf = pd.DataFrame(data = principalComponents\n",
    "             , columns = ['principal component 1', 'principal component 2'])"
   ]
  },
  {
   "cell_type": "code",
   "execution_count": 298,
   "metadata": {},
   "outputs": [
    {
     "data": {
      "text/html": [
       "<div>\n",
       "<style scoped>\n",
       "    .dataframe tbody tr th:only-of-type {\n",
       "        vertical-align: middle;\n",
       "    }\n",
       "\n",
       "    .dataframe tbody tr th {\n",
       "        vertical-align: top;\n",
       "    }\n",
       "\n",
       "    .dataframe thead th {\n",
       "        text-align: right;\n",
       "    }\n",
       "</style>\n",
       "<table border=\"1\" class=\"dataframe\">\n",
       "  <thead>\n",
       "    <tr style=\"text-align: right;\">\n",
       "      <th></th>\n",
       "      <th>principal component 1</th>\n",
       "      <th>principal component 2</th>\n",
       "    </tr>\n",
       "  </thead>\n",
       "  <tbody>\n",
       "    <tr>\n",
       "      <th>0</th>\n",
       "      <td>-2.406505</td>\n",
       "      <td>0.033641</td>\n",
       "    </tr>\n",
       "    <tr>\n",
       "      <th>1</th>\n",
       "      <td>-2.496931</td>\n",
       "      <td>0.106461</td>\n",
       "    </tr>\n",
       "    <tr>\n",
       "      <th>2</th>\n",
       "      <td>-2.159216</td>\n",
       "      <td>0.076703</td>\n",
       "    </tr>\n",
       "    <tr>\n",
       "      <th>3</th>\n",
       "      <td>-1.398622</td>\n",
       "      <td>-0.241230</td>\n",
       "    </tr>\n",
       "    <tr>\n",
       "      <th>4</th>\n",
       "      <td>-1.605348</td>\n",
       "      <td>0.090768</td>\n",
       "    </tr>\n",
       "    <tr>\n",
       "      <th>...</th>\n",
       "      <td>...</td>\n",
       "      <td>...</td>\n",
       "    </tr>\n",
       "    <tr>\n",
       "      <th>360</th>\n",
       "      <td>-1.887939</td>\n",
       "      <td>-0.141757</td>\n",
       "    </tr>\n",
       "    <tr>\n",
       "      <th>361</th>\n",
       "      <td>-0.933293</td>\n",
       "      <td>-0.079181</td>\n",
       "    </tr>\n",
       "    <tr>\n",
       "      <th>362</th>\n",
       "      <td>-1.212113</td>\n",
       "      <td>-0.161378</td>\n",
       "    </tr>\n",
       "    <tr>\n",
       "      <th>363</th>\n",
       "      <td>-1.394850</td>\n",
       "      <td>-0.090902</td>\n",
       "    </tr>\n",
       "    <tr>\n",
       "      <th>364</th>\n",
       "      <td>-1.886054</td>\n",
       "      <td>-0.066593</td>\n",
       "    </tr>\n",
       "  </tbody>\n",
       "</table>\n",
       "<p>365 rows × 2 columns</p>\n",
       "</div>"
      ],
      "text/plain": [
       "     principal component 1  principal component 2\n",
       "0                -2.406505               0.033641\n",
       "1                -2.496931               0.106461\n",
       "2                -2.159216               0.076703\n",
       "3                -1.398622              -0.241230\n",
       "4                -1.605348               0.090768\n",
       "..                     ...                    ...\n",
       "360              -1.887939              -0.141757\n",
       "361              -0.933293              -0.079181\n",
       "362              -1.212113              -0.161378\n",
       "363              -1.394850              -0.090902\n",
       "364              -1.886054              -0.066593\n",
       "\n",
       "[365 rows x 2 columns]"
      ]
     },
     "execution_count": 298,
     "metadata": {},
     "output_type": "execute_result"
    }
   ],
   "source": [
    "principalDf"
   ]
  },
  {
   "cell_type": "code",
   "execution_count": 299,
   "metadata": {},
   "outputs": [
    {
     "data": {
      "text/plain": [
       "<matplotlib.collections.PathCollection at 0x12e216250>"
      ]
     },
     "execution_count": 299,
     "metadata": {},
     "output_type": "execute_result"
    },
    {
     "data": {
      "image/png": "[encoded data removed]",
      "text/plain": [
       "<Figure size 432x288 with 1 Axes>"
      ]
     },
     "metadata": {
      "needs_background": "light"
     },
     "output_type": "display_data"
    }
   ],
   "source": [
    "plt.scatter(principalDf['principal component 1'], principalDf['principal component 2'])"
   ]
  },
  {
   "cell_type": "code",
   "execution_count": 300,
   "metadata": {},
   "outputs": [],
   "source": [
    "percip_target = pd.DataFrame()"
   ]
  },
  {
   "cell_type": "code",
   "execution_count": 301,
   "metadata": {},
   "outputs": [
    {
     "data": {
      "text/plain": [
       "0      0.00\n",
       "1      0.96\n",
       "2      1.78\n",
       "3      0.14\n",
       "4      0.00\n",
       "       ... \n",
       "360    0.00\n",
       "361    1.12\n",
       "362    0.29\n",
       "363    0.00\n",
       "364    0.00\n",
       "Name: actual_precipitation, Length: 365, dtype: float64"
      ]
     },
     "execution_count": 301,
     "metadata": {},
     "output_type": "execute_result"
    }
   ],
   "source": [
    "en_target"
   ]
  },
  {
   "cell_type": "code",
   "execution_count": 302,
   "metadata": {},
   "outputs": [],
   "source": [
    "percip_target[\"percipitation\"] = en_target"
   ]
  },
  {
   "cell_type": "code",
   "execution_count": 303,
   "metadata": {},
   "outputs": [
    {
     "data": {
      "text/html": [
       "<div>\n",
       "<style scoped>\n",
       "    .dataframe tbody tr th:only-of-type {\n",
       "        vertical-align: middle;\n",
       "    }\n",
       "\n",
       "    .dataframe tbody tr th {\n",
       "        vertical-align: top;\n",
       "    }\n",
       "\n",
       "    .dataframe thead th {\n",
       "        text-align: right;\n",
       "    }\n",
       "</style>\n",
       "<table border=\"1\" class=\"dataframe\">\n",
       "  <thead>\n",
       "    <tr style=\"text-align: right;\">\n",
       "      <th></th>\n",
       "      <th>percipitation</th>\n",
       "    </tr>\n",
       "  </thead>\n",
       "  <tbody>\n",
       "    <tr>\n",
       "      <th>0</th>\n",
       "      <td>0.00</td>\n",
       "    </tr>\n",
       "    <tr>\n",
       "      <th>1</th>\n",
       "      <td>0.96</td>\n",
       "    </tr>\n",
       "    <tr>\n",
       "      <th>2</th>\n",
       "      <td>1.78</td>\n",
       "    </tr>\n",
       "    <tr>\n",
       "      <th>3</th>\n",
       "      <td>0.14</td>\n",
       "    </tr>\n",
       "    <tr>\n",
       "      <th>4</th>\n",
       "      <td>0.00</td>\n",
       "    </tr>\n",
       "    <tr>\n",
       "      <th>...</th>\n",
       "      <td>...</td>\n",
       "    </tr>\n",
       "    <tr>\n",
       "      <th>360</th>\n",
       "      <td>0.00</td>\n",
       "    </tr>\n",
       "    <tr>\n",
       "      <th>361</th>\n",
       "      <td>1.12</td>\n",
       "    </tr>\n",
       "    <tr>\n",
       "      <th>362</th>\n",
       "      <td>0.29</td>\n",
       "    </tr>\n",
       "    <tr>\n",
       "      <th>363</th>\n",
       "      <td>0.00</td>\n",
       "    </tr>\n",
       "    <tr>\n",
       "      <th>364</th>\n",
       "      <td>0.00</td>\n",
       "    </tr>\n",
       "  </tbody>\n",
       "</table>\n",
       "<p>365 rows × 1 columns</p>\n",
       "</div>"
      ],
      "text/plain": [
       "     percipitation\n",
       "0             0.00\n",
       "1             0.96\n",
       "2             1.78\n",
       "3             0.14\n",
       "4             0.00\n",
       "..             ...\n",
       "360           0.00\n",
       "361           1.12\n",
       "362           0.29\n",
       "363           0.00\n",
       "364           0.00\n",
       "\n",
       "[365 rows x 1 columns]"
      ]
     },
     "execution_count": 303,
     "metadata": {},
     "output_type": "execute_result"
    }
   ],
   "source": [
    "percip_target"
   ]
  },
  {
   "cell_type": "code",
   "execution_count": null,
   "metadata": {},
   "outputs": [],
   "source": []
  },
  {
   "cell_type": "code",
   "execution_count": null,
   "metadata": {},
   "outputs": [],
   "source": []
  },
  {
   "cell_type": "code",
   "execution_count": 304,
   "metadata": {},
   "outputs": [],
   "source": [
    "for i in range(0, len(percip_target['percipitation'])):\n",
    "    if percip_target['percipitation'][i] > 0:\n",
    "        percip_target['percipitation'][i] = 1"
   ]
  },
  {
   "cell_type": "code",
   "execution_count": 305,
   "metadata": {},
   "outputs": [],
   "source": [
    "percip_final = pd.concat([principalDf, percip_target], axis=1)"
   ]
  },
  {
   "cell_type": "code",
   "execution_count": 306,
   "metadata": {},
   "outputs": [
    {
     "data": {
      "text/plain": [
       "0.0    241\n",
       "1.0    124\n",
       "Name: percipitation, dtype: int64"
      ]
     },
     "execution_count": 306,
     "metadata": {},
     "output_type": "execute_result"
    }
   ],
   "source": [
    "percip_target['percipitation'].value_counts()"
   ]
  },
  {
   "cell_type": "code",
   "execution_count": 307,
   "metadata": {},
   "outputs": [
    {
     "data": {
      "image/png": "[encoded data removed]",
      "text/plain": [
       "<Figure size 576x576 with 1 Axes>"
      ]
     },
     "metadata": {
      "needs_background": "light"
     },
     "output_type": "display_data"
    }
   ],
   "source": [
    "fig = plt.figure(figsize = (8,8))\n",
    "ax = fig.add_subplot(1,1,1) \n",
    "ax.set_xlabel('Principal Component 1', fontsize = 15)\n",
    "ax.set_ylabel('Principal Component 2', fontsize = 15)\n",
    "ax.set_title('2 component PCA using Percipitation from Dataset', fontsize = 20)\n",
    "targets = [0, 1]\n",
    "colors = ['r', 'b']\n",
    "for target, color in zip(targets,colors):\n",
    "    indicesToKeep = percip_final['percipitation'] == target\n",
    "    ax.scatter(percip_final.loc[indicesToKeep, 'principal component 1']\n",
    "               , percip_final.loc[indicesToKeep, 'principal component 2']\n",
    "               , c = color\n",
    "               , s = 50)\n",
    "ax.legend(targets)\n",
    "ax.grid()"
   ]
  },
  {
   "cell_type": "code",
   "execution_count": 308,
   "metadata": {},
   "outputs": [],
   "source": [
    "data_transformed\n",
    "transformed_final = pd.DataFrame()\n",
    "transformed_final['principal component 1'] = data_transformed[:, 0]\n",
    "transformed_final['principal component 2'] = data_transformed[:, 1]"
   ]
  },
  {
   "cell_type": "code",
   "execution_count": 309,
   "metadata": {},
   "outputs": [],
   "source": [
    "transformed_final = pd.concat([transformed_final, percip_target], axis=1)"
   ]
  },
  {
   "cell_type": "code",
   "execution_count": 310,
   "metadata": {},
   "outputs": [
    {
     "data": {
      "image/png": "[encoded data removed]",
      "text/plain": [
       "<Figure size 576x576 with 1 Axes>"
      ]
     },
     "metadata": {
      "needs_background": "light"
     },
     "output_type": "display_data"
    }
   ],
   "source": [
    "fig = plt.figure(figsize = (8,8))\n",
    "ax = fig.add_subplot(1,1,1) \n",
    "ax.set_xlabel('Principal Component 1', fontsize = 15)\n",
    "ax.set_ylabel('Principal Component 2', fontsize = 15)\n",
    "ax.set_title('Standard Scalar graph using Percipitation from Dataset', fontsize = 20)\n",
    "targets = [0, 1]\n",
    "colors = ['r', 'b']\n",
    "for target, color in zip(targets,colors):\n",
    "    indicesToKeep = transformed_final['percipitation'] == target\n",
    "    ax.scatter(transformed_final.loc[indicesToKeep, 'principal component 1']\n",
    "               , transformed_final.loc[indicesToKeep, 'principal component 2']\n",
    "               , c = color\n",
    "               , s = 50)\n",
    "ax.legend(targets)\n",
    "ax.grid()"
   ]
  },
  {
   "cell_type": "code",
   "execution_count": null,
   "metadata": {},
   "outputs": [],
   "source": []
  },
  {
   "cell_type": "markdown",
   "metadata": {},
   "source": [
    "Linear Regression using PCA"
   ]
  },
  {
   "cell_type": "code",
   "execution_count": 311,
   "metadata": {},
   "outputs": [],
   "source": [
    "from sklearn.model_selection import train_test_split\n",
    "import numpy as np\n",
    "\n",
    "temp = pd.DataFrame()\n",
    "temp['precipitation'] = en_target\n",
    "\n",
    "X = np.array(data[\"actual_mean_temp\"])\n",
    "y = np.array(temp['precipitation'])\n",
    "\n",
    "X_train, X_test, y_train, y_test = train_test_split(X, y, test_size=0.25, random_state=0)"
   ]
  },
  {
   "cell_type": "code",
   "execution_count": null,
   "metadata": {},
   "outputs": [],
   "source": []
  },
  {
   "cell_type": "code",
   "execution_count": 312,
   "metadata": {},
   "outputs": [],
   "source": [
    "from sklearn.linear_model import LinearRegression\n",
    "from sklearn.metrics import r2_score"
   ]
  },
  {
   "cell_type": "code",
   "execution_count": 313,
   "metadata": {},
   "outputs": [
    {
     "data": {
      "text/plain": [
       "LinearRegression(copy_X=True, fit_intercept=True, n_jobs=None, normalize=False)"
      ]
     },
     "execution_count": 313,
     "metadata": {},
     "output_type": "execute_result"
    }
   ],
   "source": [
    "percip_reg = LinearRegression()\n",
    "\n",
    "X_train = np.array(X_train).reshape(-1, 1)\n",
    "y_train = np.array(y_train).reshape(-1, 1)\n",
    "\n",
    "\n",
    "percip_reg.fit(X_train, y_train)"
   ]
  },
  {
   "cell_type": "code",
   "execution_count": 314,
   "metadata": {},
   "outputs": [],
   "source": [
    "X_test = np.array(X_test).reshape(-1, 1)\n",
    "testvals = percip_reg.predict(X_test)"
   ]
  },
  {
   "cell_type": "code",
   "execution_count": 315,
   "metadata": {},
   "outputs": [
    {
     "name": "stdout",
     "output_type": "stream",
     "text": [
      "0.12744714408900892 = 0.69\n",
      "0.13353743650692634 = 0.02\n",
      "0.1288005424041017 = 0.0\n",
      "0.12631931215976497 = 0.02\n",
      "0.12947724156164808 = 0.0\n",
      "0.1256426130022186 = 0.0\n",
      "0.12744714408900892 = 0.0\n",
      "0.1283494096324041 = 0.0\n",
      "0.13737206506635583 = 0.0\n",
      "0.1256426130022186 = 0.04\n",
      "0.12992837433334564 = 0.0\n",
      "0.13737206506635583 = 0.0\n",
      "0.1353419675937167 = 0.0\n",
      "0.13060507349089204 = 0.0\n",
      "0.1315073390342872 = 0.0\n",
      "0.13827433060975097 = 0.36\n",
      "0.13060507349089204 = 0.2\n",
      "0.13083063987674082 = 0.0\n",
      "0.13646979952296065 = 0.02\n",
      "0.13601866675126306 = 0.0\n",
      "0.1353419675937167 = 0.0\n",
      "0.13669536590880943 = 0.0\n",
      "0.1278982768607065 = 0.0\n",
      "0.13218403819183358 = 1.37\n",
      "0.12947724156164808 = 0.0\n",
      "0.13443970205032152 = 0.0\n",
      "0.12744714408900892 = 0.0\n",
      "0.12699601131731134 = 0.0\n",
      "0.131732905420136 = 1.51\n",
      "0.1405299944682389 = 0.0\n",
      "0.13376300289277512 = 0.0\n",
      "0.1315073390342872 = 0.33\n",
      "0.12699601131731134 = 0.0\n",
      "0.12699601131731134 = 0.0\n",
      "0.12767271047485773 = 0.0\n",
      "0.12699601131731134 = 0.0\n",
      "0.12744714408900892 = 0.0\n",
      "0.1319584718059848 = 0.0\n",
      "0.13579310036541425 = 0.0\n",
      "0.1260937457739162 = 0.0\n",
      "0.13624423313711184 = 0.0\n",
      "0.13083063987674082 = 0.0\n",
      "0.1375976314522046 = 0.02\n",
      "0.13624423313711184 = 0.0\n",
      "0.12677044493146256 = 0.0\n",
      "0.13015394071919445 = 0.0\n",
      "0.13737206506635583 = 0.06\n",
      "0.13940216253899496 = 0.0\n",
      "0.1378231978380534 = 0.0\n",
      "0.12631931215976497 = 0.0\n",
      "0.13624423313711184 = 0.0\n",
      "0.13940216253899496 = 0.0\n",
      "0.13872546338144856 = 0.61\n",
      "0.13601866675126306 = 0.0\n",
      "0.12970280794749686 = 0.02\n",
      "0.12677044493146256 = 0.0\n",
      "0.12767271047485773 = 0.06\n",
      "0.13443970205032152 = 0.2\n",
      "0.12722157770316014 = 0.0\n",
      "0.12970280794749686 = 0.0\n",
      "0.13037950710504323 = 0.0\n",
      "0.13646979952296065 = 0.0\n",
      "0.1256426130022186 = 0.39\n",
      "0.12992837433334564 = 0.0\n",
      "0.1283494096324041 = 0.0\n",
      "0.1278982768607065 = 0.06\n",
      "0.12586817938806738 = 0.0\n",
      "0.13263517096353117 = 0.05\n",
      "0.1375976314522046 = 0.0\n",
      "0.13579310036541425 = 0.04\n",
      "0.12947724156164808 = 0.26\n",
      "0.1348908348220191 = 0.0\n",
      "0.13218403819183358 = 0.61\n",
      "0.13060507349089204 = 0.05\n",
      "0.12474034745882343 = 0.0\n",
      "0.13849989699559978 = 0.0\n",
      "0.1290261087899505 = 0.0\n",
      "0.12992837433334564 = 0.0\n",
      "0.13714649868050702 = 0.67\n",
      "0.12631931215976497 = 0.0\n",
      "0.1260937457739162 = 0.0\n",
      "0.13579310036541425 = 0.0\n",
      "0.13015394071919445 = 0.7\n",
      "0.12744714408900892 = 0.0\n",
      "0.12925167517579927 = 1.12\n",
      "0.1285749760182529 = 0.19\n",
      "0.1290261087899505 = 0.0\n",
      "0.13692093229465824 = 0.0\n",
      "0.1342141356644727 = 0.27\n",
      "0.1346652684361703 = 0.0\n",
      "0.13083063987674082 = 0.0\n",
      "0.12586817938806738 = 0.19\n"
     ]
    }
   ],
   "source": [
    "for i in range(0, len(testvals)):\n",
    "    print(testvals[i][0], end=\" = \")\n",
    "    print(y_test[i])"
   ]
  },
  {
   "cell_type": "code",
   "execution_count": 316,
   "metadata": {},
   "outputs": [
    {
     "name": "stdout",
     "output_type": "stream",
     "text": [
      "-0.005483053485619616\n"
     ]
    }
   ],
   "source": [
    "print(percip_reg.score(X_test, y_test))"
   ]
  },
  {
   "cell_type": "code",
   "execution_count": null,
   "metadata": {},
   "outputs": [],
   "source": []
  },
  {
   "cell_type": "code",
   "execution_count": 317,
   "metadata": {},
   "outputs": [],
   "source": [
    "from sklearn.model_selection import train_test_split\n",
    "import numpy as np\n",
    "\n",
    "temp = pd.DataFrame()\n",
    "temp['precipitation'] = en_target\n",
    "\n",
    "X = np.array(principalDf['principal component 1'])\n",
    "y = np.array(temp['precipitation'])\n",
    "\n",
    "X_train, X_test, y_train, y_test = train_test_split(X, y, test_size=0.25, random_state=0)"
   ]
  },
  {
   "cell_type": "code",
   "execution_count": 318,
   "metadata": {},
   "outputs": [
    {
     "data": {
      "text/plain": [
       "LinearRegression(copy_X=True, fit_intercept=True, n_jobs=None, normalize=False)"
      ]
     },
     "execution_count": 318,
     "metadata": {},
     "output_type": "execute_result"
    }
   ],
   "source": [
    "percip_reg = LinearRegression()\n",
    "\n",
    "X_train = np.array(X_train).reshape(-1, 1)\n",
    "y_train = np.array(y_train).reshape(-1, 1)\n",
    "\n",
    "\n",
    "percip_reg.fit(X_train, y_train)"
   ]
  },
  {
   "cell_type": "code",
   "execution_count": 319,
   "metadata": {},
   "outputs": [],
   "source": [
    "X_test = np.array(X_test).reshape(-1, 1)\n",
    "testvals = percip_reg.predict(X_test)"
   ]
  },
  {
   "cell_type": "code",
   "execution_count": 320,
   "metadata": {},
   "outputs": [
    {
     "name": "stdout",
     "output_type": "stream",
     "text": [
      "0.12747677865908857 = 0.69\n",
      "0.13355612510855364 = 0.02\n",
      "0.12881296288015753 = 0.0\n",
      "0.1263843783898422 = 0.02\n",
      "0.12949009209711104 = 0.0\n",
      "0.12579635939359107 = 0.0\n",
      "0.1274858157655076 = 0.0\n",
      "0.12840221038107422 = 0.0\n",
      "0.1373028196070998 = 0.0\n",
      "0.1257298419389363 = 0.04\n",
      "0.13001254758294437 = 0.0\n",
      "0.1372227464928165 = 0.0\n",
      "0.13524106292726065 = 0.0\n",
      "0.13059604802598598 = 0.0\n",
      "0.1314808127690859 = 0.0\n",
      "0.13809847412949738 = 0.36\n",
      "0.13065804692743122 = 0.2\n",
      "0.1308036835521324 = 0.0\n",
      "0.13641353631079034 = 0.02\n",
      "0.13598470959886896 = 0.0\n",
      "0.13523202582084162 = 0.0\n",
      "0.13665280170940344 = 0.0\n",
      "0.12801730835775996 = 0.0\n",
      "0.1322018666746466 = 1.37\n",
      "0.12951268486315867 = 0.0\n",
      "0.13441377853239644 = 0.0\n",
      "0.12749485287192666 = 0.0\n",
      "0.12706150760679574 = 0.0\n",
      "0.1316794111888133 = 1.51\n",
      "0.14039045910153056 = 0.0\n",
      "0.13374116786865245 = 0.0\n",
      "0.13146273855624782 = 0.33\n",
      "0.12711898795503146 = 0.0\n",
      "0.1271280250614505 = 0.0\n",
      "0.12771604405770165 = 0.0\n",
      "0.1270569890535862 = 0.0\n",
      "0.12756588887979095 = 0.0\n",
      "0.13199423114850017 = 0.0\n",
      "0.1357499627534654 = 0.0\n",
      "0.12616318720406722 = 0.0\n",
      "0.13618330801859632 = 0.0\n",
      "0.13089279377283478 = 0.0\n",
      "0.1375240107928748 = 0.02\n",
      "0.13610775345752252 = 0.0\n",
      "0.12683579786781124 = 0.0\n",
      "0.1301717398672741 = 0.0\n",
      "0.13730733816030935 = 0.06\n",
      "0.13928450317265564 = 0.0\n",
      "0.1377316463190212 = 0.0\n",
      "0.12639341549626126 = 0.0\n",
      "0.13616975235896775 = 0.0\n",
      "0.13928902172586516 = 0.0\n",
      "0.13863448527495925 = 0.61\n",
      "0.13587752516532847 = 0.0\n",
      "0.12967965341041937 = 0.02\n",
      "0.1268493535274398 = 0.0\n",
      "0.12771152550449213 = 0.06\n",
      "0.13434274252453215 = 0.2\n",
      "0.12728269879257073 = 0.0\n",
      "0.12970676472967652 = 0.0\n",
      "0.13045492995449431 = 0.0\n",
      "0.13633798174971654 = 0.0\n",
      "0.1257343604921458 = 0.39\n",
      "0.12999447337010625 = 0.0\n",
      "0.1284732463889385 = 0.0\n",
      "0.12793723524347664 = 0.06\n",
      "0.1260265876857851 = 0.0\n",
      "0.13256869448512273 = 0.05\n",
      "0.13747556755105814 = 0.0\n",
      "0.13566988963918206 = 0.04\n",
      "0.12954757244534676 = 0.26\n",
      "0.13484260524431785 = 0.0\n",
      "0.1321837924618085 = 0.61\n",
      "0.1306761211402693 = 0.05\n",
      "0.12491159465049113 = 0.0\n",
      "0.1383241838684819 = 0.0\n",
      "0.1291458570526825 = 0.0\n",
      "0.13001706613615388 = 0.0\n",
      "0.1370771098681153 = 0.67\n",
      "0.12647348861054458 = 0.0\n",
      "0.12623874176514105 = 0.0\n",
      "0.13567892674560111 = 0.0\n",
      "0.1301491471012265 = 0.7\n",
      "0.12750388997834572 = 0.0\n",
      "0.1293308998127813 = 1.12\n",
      "0.12860080880080157 = 0.19\n",
      "0.12903867261914204 = 0.0\n",
      "0.1368468815759213 = 0.0\n",
      "0.1341835502402024 = 0.27\n",
      "0.13455489660388809 = 0.0\n",
      "0.1308036835521324 = 0.0\n",
      "0.12594651457150177 = 0.19\n"
     ]
    }
   ],
   "source": [
    "for i in range(0, len(testvals)):\n",
    "    print(testvals[i][0], end=\" = \")\n",
    "    print(y_test[i])"
   ]
  },
  {
   "cell_type": "code",
   "execution_count": 321,
   "metadata": {},
   "outputs": [
    {
     "name": "stdout",
     "output_type": "stream",
     "text": [
      "-0.005502932594477761\n"
     ]
    }
   ],
   "source": [
    "print(percip_reg.score(X_test, y_test))"
   ]
  },
  {
   "cell_type": "markdown",
   "metadata": {},
   "source": [
    "Logistical Regression "
   ]
  },
  {
   "cell_type": "code",
   "execution_count": 322,
   "metadata": {},
   "outputs": [
    {
     "data": {
      "text/html": [
       "<div>\n",
       "<style scoped>\n",
       "    .dataframe tbody tr th:only-of-type {\n",
       "        vertical-align: middle;\n",
       "    }\n",
       "\n",
       "    .dataframe tbody tr th {\n",
       "        vertical-align: top;\n",
       "    }\n",
       "\n",
       "    .dataframe thead th {\n",
       "        text-align: right;\n",
       "    }\n",
       "</style>\n",
       "<table border=\"1\" class=\"dataframe\">\n",
       "  <thead>\n",
       "    <tr style=\"text-align: right;\">\n",
       "      <th></th>\n",
       "      <th>actual_mean_temp</th>\n",
       "      <th>actual_min_temp</th>\n",
       "      <th>actual_max_temp</th>\n",
       "    </tr>\n",
       "  </thead>\n",
       "  <tbody>\n",
       "    <tr>\n",
       "      <th>0</th>\n",
       "      <td>81</td>\n",
       "      <td>72</td>\n",
       "      <td>89</td>\n",
       "    </tr>\n",
       "    <tr>\n",
       "      <th>1</th>\n",
       "      <td>82</td>\n",
       "      <td>72</td>\n",
       "      <td>91</td>\n",
       "    </tr>\n",
       "    <tr>\n",
       "      <th>2</th>\n",
       "      <td>78</td>\n",
       "      <td>69</td>\n",
       "      <td>87</td>\n",
       "    </tr>\n",
       "    <tr>\n",
       "      <th>3</th>\n",
       "      <td>70</td>\n",
       "      <td>65</td>\n",
       "      <td>74</td>\n",
       "    </tr>\n",
       "    <tr>\n",
       "      <th>4</th>\n",
       "      <td>72</td>\n",
       "      <td>63</td>\n",
       "      <td>81</td>\n",
       "    </tr>\n",
       "    <tr>\n",
       "      <th>...</th>\n",
       "      <td>...</td>\n",
       "      <td>...</td>\n",
       "      <td>...</td>\n",
       "    </tr>\n",
       "    <tr>\n",
       "      <th>360</th>\n",
       "      <td>75</td>\n",
       "      <td>69</td>\n",
       "      <td>81</td>\n",
       "    </tr>\n",
       "    <tr>\n",
       "      <th>361</th>\n",
       "      <td>65</td>\n",
       "      <td>58</td>\n",
       "      <td>71</td>\n",
       "    </tr>\n",
       "    <tr>\n",
       "      <th>362</th>\n",
       "      <td>68</td>\n",
       "      <td>62</td>\n",
       "      <td>73</td>\n",
       "    </tr>\n",
       "    <tr>\n",
       "      <th>363</th>\n",
       "      <td>70</td>\n",
       "      <td>63</td>\n",
       "      <td>76</td>\n",
       "    </tr>\n",
       "    <tr>\n",
       "      <th>364</th>\n",
       "      <td>75</td>\n",
       "      <td>68</td>\n",
       "      <td>82</td>\n",
       "    </tr>\n",
       "  </tbody>\n",
       "</table>\n",
       "<p>365 rows × 3 columns</p>\n",
       "</div>"
      ],
      "text/plain": [
       "     actual_mean_temp  actual_min_temp  actual_max_temp\n",
       "0                  81               72               89\n",
       "1                  82               72               91\n",
       "2                  78               69               87\n",
       "3                  70               65               74\n",
       "4                  72               63               81\n",
       "..                ...              ...              ...\n",
       "360                75               69               81\n",
       "361                65               58               71\n",
       "362                68               62               73\n",
       "363                70               63               76\n",
       "364                75               68               82\n",
       "\n",
       "[365 rows x 3 columns]"
      ]
     },
     "execution_count": 322,
     "metadata": {},
     "output_type": "execute_result"
    }
   ],
   "source": [
    "data"
   ]
  },
  {
   "cell_type": "code",
   "execution_count": 323,
   "metadata": {},
   "outputs": [
    {
     "data": {
      "text/plain": [
       "0      0.00\n",
       "1      0.96\n",
       "2      1.78\n",
       "3      0.14\n",
       "4      0.00\n",
       "       ... \n",
       "360    0.00\n",
       "361    1.12\n",
       "362    0.29\n",
       "363    0.00\n",
       "364    0.00\n",
       "Name: actual_precipitation, Length: 365, dtype: float64"
      ]
     },
     "execution_count": 323,
     "metadata": {},
     "output_type": "execute_result"
    }
   ],
   "source": [
    "en_target"
   ]
  },
  {
   "cell_type": "code",
   "execution_count": 324,
   "metadata": {},
   "outputs": [
    {
     "data": {
      "text/plain": [
       "0.0    63\n",
       "1.0    29\n",
       "Name: percipitation, dtype: int64"
      ]
     },
     "execution_count": 324,
     "metadata": {},
     "output_type": "execute_result"
    }
   ],
   "source": [
    "feature_cols = ['actual_mean_temp', 'actual_min_temp', 'actual_max_temp']\n",
    "\n",
    "# X is a matrix, access the features we want in feature_cols\n",
    "X = data[feature_cols]\n",
    "\n",
    "ytemp = pd.DataFrame()\n",
    "ytemp['percipitation'] = en_target\n",
    "\n",
    "for i in range(0, len(ytemp['percipitation'])):\n",
    "    if ytemp['percipitation'][i] > 0:\n",
    "        ytemp['percipitation'][i] = 1\n",
    "\n",
    "# y is a vector, hence we use dot to access 'label'\n",
    "y = ytemp['percipitation']\n",
    "\n",
    "# split X and y into training and testing sets\n",
    "X_train, X_test, y_train, y_test = train_test_split(X, y, test_size=0.25, random_state=0)\n",
    "\n",
    "y_test.value_counts()"
   ]
  },
  {
   "cell_type": "code",
   "execution_count": 325,
   "metadata": {
    "scrolled": true
   },
   "outputs": [
    {
     "name": "stderr",
     "output_type": "stream",
     "text": [
      "/usr/local/lib/python3.7/site-packages/sklearn/linear_model/logistic.py:432: FutureWarning: Default solver will be changed to 'lbfgs' in 0.22. Specify a solver to silence this warning.\n",
      "  FutureWarning)\n"
     ]
    },
    {
     "data": {
      "text/plain": [
       "LogisticRegression(C=1.0, class_weight=None, dual=False, fit_intercept=True,\n",
       "                   intercept_scaling=1, l1_ratio=None, max_iter=100,\n",
       "                   multi_class='warn', n_jobs=None, penalty='l2',\n",
       "                   random_state=None, solver='warn', tol=0.0001, verbose=0,\n",
       "                   warm_start=False)"
      ]
     },
     "execution_count": 325,
     "metadata": {},
     "output_type": "execute_result"
    }
   ],
   "source": [
    "from sklearn.linear_model import LogisticRegression\n",
    "\n",
    "logreg = LogisticRegression()\n",
    "\n",
    "# fit model\n",
    "logreg.fit(X_train, y_train)"
   ]
  },
  {
   "cell_type": "code",
   "execution_count": 326,
   "metadata": {},
   "outputs": [
    {
     "name": "stdout",
     "output_type": "stream",
     "text": [
      "[1. 0. 0. 0. 0. 0. 0. 0. 0. 0. 0. 0. 0. 0. 0. 0. 0. 0. 0. 0. 0. 0. 0. 0.\n",
      " 0. 0. 0. 0. 0. 0. 1. 0. 0. 0. 0. 0. 0. 0. 0. 0. 0. 0. 0. 0. 0. 0. 0. 0.\n",
      " 0. 0. 1. 0. 0. 1. 1. 0. 0. 0. 0. 0. 0. 0. 0. 0. 0. 0. 0. 0. 0. 0. 0. 1.\n",
      " 1. 0. 0. 0. 0. 0. 0. 0. 0. 0. 0. 0. 0. 0. 0. 0. 1. 0. 0. 0.]\n"
     ]
    }
   ],
   "source": [
    "y_pred = logreg.predict(X_test)\n",
    "\n",
    "print(y_pred)"
   ]
  },
  {
   "cell_type": "code",
   "execution_count": 327,
   "metadata": {},
   "outputs": [
    {
     "name": "stdout",
     "output_type": "stream",
     "text": [
      "[1. 1. 0. 1. 0. 0. 0. 0. 0. 1. 0. 0. 0. 0. 0. 1. 1. 0. 1. 0. 0. 0. 0. 1.\n",
      " 0. 0. 0. 0. 1. 0. 0. 1. 0. 0. 0. 0. 0. 0. 0. 0. 0. 0. 1. 0. 0. 0. 1. 0.\n",
      " 0. 0. 0. 0. 1. 0. 1. 0. 1. 1. 0. 0. 0. 0. 1. 0. 0. 1. 0. 1. 0. 1. 1. 0.\n",
      " 1. 1. 0. 0. 0. 0. 1. 0. 0. 0. 1. 0. 1. 1. 0. 0. 1. 0. 0. 1.]\n"
     ]
    }
   ],
   "source": [
    "print(y_test.values.T)"
   ]
  },
  {
   "cell_type": "code",
   "execution_count": 328,
   "metadata": {},
   "outputs": [
    {
     "data": {
      "image/png": "[encoded data removed]",
      "text/plain": [
       "<Figure size 432x288 with 1 Axes>"
      ]
     },
     "metadata": {
      "needs_background": "light"
     },
     "output_type": "display_data"
    },
    {
     "data": {
      "text/plain": [
       "0.0    63\n",
       "1.0    29\n",
       "Name: percipitation, dtype: int64"
      ]
     },
     "execution_count": 328,
     "metadata": {},
     "output_type": "execute_result"
    }
   ],
   "source": [
    "\n",
    "plt.hist(y_test, bins=20)\n",
    "plt.show()\n",
    "\n",
    "\n",
    "y_test_pd_series = pd.Series(y_test)\n",
    "y_test_pd_series.value_counts()"
   ]
  },
  {
   "cell_type": "code",
   "execution_count": 329,
   "metadata": {},
   "outputs": [
    {
     "data": {
      "image/png": "[encoded data removed]",
      "text/plain": [
       "<Figure size 432x288 with 1 Axes>"
      ]
     },
     "metadata": {
      "needs_background": "light"
     },
     "output_type": "display_data"
    },
    {
     "data": {
      "text/plain": [
       "0.0    84\n",
       "1.0     8\n",
       "dtype: int64"
      ]
     },
     "execution_count": 329,
     "metadata": {},
     "output_type": "execute_result"
    }
   ],
   "source": [
    "plt.hist(y_pred, bins=20)\n",
    "plt.show()\n",
    "\n",
    "\n",
    "y_test_pd_series = pd.Series(y_pred)\n",
    "y_test_pd_series.value_counts()"
   ]
  },
  {
   "cell_type": "code",
   "execution_count": 330,
   "metadata": {},
   "outputs": [
    {
     "name": "stdout",
     "output_type": "stream",
     "text": [
      "[[59  4]\n",
      " [25  4]]\n"
     ]
    }
   ],
   "source": [
    "from sklearn import metrics\n",
    "\n",
    "confusion = metrics.confusion_matrix(y_test, y_pred)\n",
    "print(confusion)"
   ]
  },
  {
   "cell_type": "code",
   "execution_count": 331,
   "metadata": {},
   "outputs": [
    {
     "name": "stdout",
     "output_type": "stream",
     "text": [
      "92\n"
     ]
    }
   ],
   "source": [
    "total = 0\n",
    "\n",
    "for y in confusion:\n",
    "    for i in y:\n",
    "        total += i\n",
    "\n",
    "\n",
    "print(total)"
   ]
  },
  {
   "cell_type": "code",
   "execution_count": 332,
   "metadata": {},
   "outputs": [
    {
     "name": "stdout",
     "output_type": "stream",
     "text": [
      "0.6847826086956522\n"
     ]
    }
   ],
   "source": [
    "accuracy = (confusion[0][0] + confusion[1][1]) / total\n",
    "print(accuracy)"
   ]
  },
  {
   "cell_type": "code",
   "execution_count": 333,
   "metadata": {},
   "outputs": [
    {
     "name": "stdout",
     "output_type": "stream",
     "text": [
      "0.31521739130434784\n"
     ]
    }
   ],
   "source": [
    "misaccuracy = (confusion[0][1] + confusion[1][0]) / total\n",
    "print(misaccuracy)"
   ]
  },
  {
   "cell_type": "code",
   "execution_count": 334,
   "metadata": {},
   "outputs": [
    {
     "name": "stdout",
     "output_type": "stream",
     "text": [
      "0.5\n"
     ]
    }
   ],
   "source": [
    "precision = confusion[1][1] / (confusion[0][1] + confusion[1][1])\n",
    "print(precision)"
   ]
  },
  {
   "cell_type": "code",
   "execution_count": 335,
   "metadata": {},
   "outputs": [
    {
     "name": "stdout",
     "output_type": "stream",
     "text": [
      "0.13793103448275862\n"
     ]
    }
   ],
   "source": [
    "recall = confusion[1][1] / (confusion[1][0] + confusion[1][1])\n",
    "print(recall)"
   ]
  },
  {
   "cell_type": "code",
   "execution_count": 336,
   "metadata": {},
   "outputs": [
    {
     "name": "stdout",
     "output_type": "stream",
     "text": [
      "0.2162162162162162\n"
     ]
    }
   ],
   "source": [
    "f1_score = 2 * precision * recall / (precision + recall)\n",
    "print(f1_score)"
   ]
  },
  {
   "cell_type": "code",
   "execution_count": null,
   "metadata": {},
   "outputs": [],
   "source": []
  }
 ],
 "metadata": {
  "kernelspec": {
   "display_name": "Python 3",
   "language": "python",
   "name": "python3"
  },
  "language_info": {
   "codemirror_mode": {
    "name": "ipython",
    "version": 3
   },
   "file_extension": ".py",
   "mimetype": "text/x-python",
   "name": "python",
   "nbconvert_exporter": "python",
   "pygments_lexer": "ipython3",
   "version": "3.7.4"
  }
 },
 "nbformat": 4,
 "nbformat_minor": 2
}
